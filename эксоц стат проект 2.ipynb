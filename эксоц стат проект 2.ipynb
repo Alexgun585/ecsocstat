{
 "cells": [
  {
   "cell_type": "code",
   "execution_count": null,
   "id": "382edc7f",
   "metadata": {},
   "outputs": [
    {
     "name": "stdout",
     "output_type": "stream",
     "text": [
      "Текущая версия Python:             3.9.12 \n",
      "\n",
      "Текущая версия модуля numpy:       1.21.5\n",
      "Текущая версия модуля scipy:       1.7.3\n",
      "Текущая версия модуля pandas:      1.4.2\n",
      "Текущая версия модуля matplotlib:  3.5.1\n",
      "Текущая версия модуля seaborn:     0.11.2\n",
      "Текущая версия модуля statsmodels: 0.13.2\n",
      "Текущая версия модуля sympy:       1.10.1\n"
     ]
    }
   ],
   "source": [
    "import os   \n",
    "import sys\n",
    "import platform\n",
    "print('{:<35}{:^0}'.format(\"Текущая версия Python: \", platform.python_version()), '\\n')\n",
    "\n",
    "import math\n",
    "from math import *   \n",
    "\n",
    "import numpy as np\n",
    "#print (\"Текущая версия модуля numpy: \", np.__version__)\n",
    "print('{:<35}{:^0}'.format(\"Текущая версия модуля numpy: \", np.__version__))\n",
    "from numpy import nan\n",
    "\n",
    "import scipy as sci\n",
    "print('{:<35}{:^0}'.format(\"Текущая версия модуля scipy: \", sci.__version__))\n",
    "import scipy.stats as sps\n",
    "\n",
    "import pandas as pd\n",
    "print('{:<35}{:^0}'.format(\"Текущая версия модуля pandas: \", pd.__version__))\n",
    "\n",
    "import matplotlib as mpl\n",
    "print('{:<35}{:^0}'.format(\"Текущая версия модуля matplotlib: \", mpl.__version__))\n",
    "import matplotlib.pyplot as plt\n",
    "\n",
    "import seaborn as sns\n",
    "print('{:<35}{:^0}'.format(\"Текущая версия модуля seaborn: \", sns.__version__))\n",
    "\n",
    "import statsmodels.api as sm\n",
    "import statsmodels.formula.api as smf\n",
    "import statsmodels.graphics.api as smg\n",
    "import statsmodels.stats.api as sms\n",
    "from statsmodels.compat import lzip\n",
    "print('{:<35}{:^0}'.format(\"Текущая версия модуля statsmodels: \", sm.__version__))\n",
    "\n",
    "import statistics as stat    # module 'statistics' has no attribute '__version__'\n",
    "\n",
    "import sympy as sym\n",
    "print('{:<35}{:^0}'.format(\"Текущая версия модуля sympy: \", sym.__version__))"
   ]
  },
  {
   "cell_type": "code",
   "execution_count": 4,
   "id": "70e4ddbc",
   "metadata": {},
   "outputs": [],
   "source": [
    "data=pd.read_excel(r'D:\\ВШЭ\\эксоцстат проект\\эксоц стат данные 2.xlsx', sheet_name='данные')"
   ]
  },
  {
   "cell_type": "code",
   "execution_count": 7,
   "id": "f4604b7e",
   "metadata": {},
   "outputs": [
    {
     "data": {
      "text/html": [
       "<div>\n",
       "<style scoped>\n",
       "    .dataframe tbody tr th:only-of-type {\n",
       "        vertical-align: middle;\n",
       "    }\n",
       "\n",
       "    .dataframe tbody tr th {\n",
       "        vertical-align: top;\n",
       "    }\n",
       "\n",
       "    .dataframe thead th {\n",
       "        text-align: right;\n",
       "    }\n",
       "</style>\n",
       "<table border=\"1\" class=\"dataframe\">\n",
       "  <thead>\n",
       "    <tr style=\"text-align: right;\">\n",
       "      <th></th>\n",
       "      <th>region</th>\n",
       "      <th>no_education</th>\n",
       "      <th>MD</th>\n",
       "      <th>specialty</th>\n",
       "      <th>BD</th>\n",
       "      <th>under_grad</th>\n",
       "      <th>prof</th>\n",
       "      <th>mid</th>\n",
       "      <th>based</th>\n",
       "      <th>primary</th>\n",
       "      <th>kids</th>\n",
       "      <th>gini</th>\n",
       "    </tr>\n",
       "  </thead>\n",
       "  <tbody>\n",
       "    <tr>\n",
       "      <th>0</th>\n",
       "      <td>Белгородская область</td>\n",
       "      <td>0.010161</td>\n",
       "      <td>0.010348</td>\n",
       "      <td>0.130453</td>\n",
       "      <td>0.044155</td>\n",
       "      <td>0.012943</td>\n",
       "      <td>0.350188</td>\n",
       "      <td>0.130507</td>\n",
       "      <td>0.064594</td>\n",
       "      <td>0.052690</td>\n",
       "      <td>0.040226</td>\n",
       "      <td>0.377</td>\n",
       "    </tr>\n",
       "    <tr>\n",
       "      <th>1</th>\n",
       "      <td>Брянская область</td>\n",
       "      <td>0.011335</td>\n",
       "      <td>0.008682</td>\n",
       "      <td>0.124264</td>\n",
       "      <td>0.038232</td>\n",
       "      <td>0.010456</td>\n",
       "      <td>0.338353</td>\n",
       "      <td>0.159067</td>\n",
       "      <td>0.078616</td>\n",
       "      <td>0.060957</td>\n",
       "      <td>0.040040</td>\n",
       "      <td>0.365</td>\n",
       "    </tr>\n",
       "    <tr>\n",
       "      <th>2</th>\n",
       "      <td>Владимирская область</td>\n",
       "      <td>0.010625</td>\n",
       "      <td>0.009599</td>\n",
       "      <td>0.118140</td>\n",
       "      <td>0.041694</td>\n",
       "      <td>0.014020</td>\n",
       "      <td>0.337805</td>\n",
       "      <td>0.157043</td>\n",
       "      <td>0.079137</td>\n",
       "      <td>0.057323</td>\n",
       "      <td>0.035299</td>\n",
       "      <td>0.332</td>\n",
       "    </tr>\n",
       "    <tr>\n",
       "      <th>3</th>\n",
       "      <td>Воронежская область</td>\n",
       "      <td>0.010780</td>\n",
       "      <td>0.014870</td>\n",
       "      <td>0.142446</td>\n",
       "      <td>0.053593</td>\n",
       "      <td>0.017031</td>\n",
       "      <td>0.314673</td>\n",
       "      <td>0.177337</td>\n",
       "      <td>0.088672</td>\n",
       "      <td>0.055415</td>\n",
       "      <td>0.040547</td>\n",
       "      <td>0.393</td>\n",
       "    </tr>\n",
       "    <tr>\n",
       "      <th>4</th>\n",
       "      <td>Ивановская область</td>\n",
       "      <td>0.011411</td>\n",
       "      <td>0.009136</td>\n",
       "      <td>0.128767</td>\n",
       "      <td>0.036776</td>\n",
       "      <td>0.013010</td>\n",
       "      <td>0.348222</td>\n",
       "      <td>0.158222</td>\n",
       "      <td>0.078806</td>\n",
       "      <td>0.055512</td>\n",
       "      <td>0.039581</td>\n",
       "      <td>0.352</td>\n",
       "    </tr>\n",
       "    <tr>\n",
       "      <th>...</th>\n",
       "      <td>...</td>\n",
       "      <td>...</td>\n",
       "      <td>...</td>\n",
       "      <td>...</td>\n",
       "      <td>...</td>\n",
       "      <td>...</td>\n",
       "      <td>...</td>\n",
       "      <td>...</td>\n",
       "      <td>...</td>\n",
       "      <td>...</td>\n",
       "      <td>...</td>\n",
       "      <td>...</td>\n",
       "    </tr>\n",
       "    <tr>\n",
       "      <th>80</th>\n",
       "      <td>Амурская область</td>\n",
       "      <td>0.013523</td>\n",
       "      <td>0.008969</td>\n",
       "      <td>0.119416</td>\n",
       "      <td>0.048982</td>\n",
       "      <td>0.014849</td>\n",
       "      <td>0.339481</td>\n",
       "      <td>0.158212</td>\n",
       "      <td>0.103921</td>\n",
       "      <td>0.060444</td>\n",
       "      <td>0.049485</td>\n",
       "      <td>0.391</td>\n",
       "    </tr>\n",
       "    <tr>\n",
       "      <th>81</th>\n",
       "      <td>Магаданская область</td>\n",
       "      <td>0.014666</td>\n",
       "      <td>0.015009</td>\n",
       "      <td>0.154188</td>\n",
       "      <td>0.070349</td>\n",
       "      <td>0.021964</td>\n",
       "      <td>0.312986</td>\n",
       "      <td>0.158549</td>\n",
       "      <td>0.069165</td>\n",
       "      <td>0.059460</td>\n",
       "      <td>0.038453</td>\n",
       "      <td>0.390</td>\n",
       "    </tr>\n",
       "    <tr>\n",
       "      <th>82</th>\n",
       "      <td>Сахалинская область</td>\n",
       "      <td>0.013717</td>\n",
       "      <td>0.011120</td>\n",
       "      <td>0.138899</td>\n",
       "      <td>0.062360</td>\n",
       "      <td>0.021668</td>\n",
       "      <td>0.333936</td>\n",
       "      <td>0.153672</td>\n",
       "      <td>0.090945</td>\n",
       "      <td>0.050416</td>\n",
       "      <td>0.043491</td>\n",
       "      <td>0.402</td>\n",
       "    </tr>\n",
       "    <tr>\n",
       "      <th>83</th>\n",
       "      <td>Еврейская автономная область</td>\n",
       "      <td>0.013670</td>\n",
       "      <td>0.008793</td>\n",
       "      <td>0.094388</td>\n",
       "      <td>0.040854</td>\n",
       "      <td>0.009925</td>\n",
       "      <td>0.292541</td>\n",
       "      <td>0.179577</td>\n",
       "      <td>0.120988</td>\n",
       "      <td>0.068386</td>\n",
       "      <td>0.050459</td>\n",
       "      <td>0.327</td>\n",
       "    </tr>\n",
       "    <tr>\n",
       "      <th>84</th>\n",
       "      <td>Чукотский автономный округ</td>\n",
       "      <td>0.016475</td>\n",
       "      <td>0.009995</td>\n",
       "      <td>0.166442</td>\n",
       "      <td>0.051662</td>\n",
       "      <td>0.014034</td>\n",
       "      <td>0.305342</td>\n",
       "      <td>0.159095</td>\n",
       "      <td>0.120622</td>\n",
       "      <td>0.074413</td>\n",
       "      <td>0.060904</td>\n",
       "      <td>0.407</td>\n",
       "    </tr>\n",
       "  </tbody>\n",
       "</table>\n",
       "<p>85 rows × 12 columns</p>\n",
       "</div>"
      ],
      "text/plain": [
       "                             region  no_education        MD  specialty  \\\n",
       "0              Белгородская область      0.010161  0.010348   0.130453   \n",
       "1                  Брянская область      0.011335  0.008682   0.124264   \n",
       "2              Владимирская область      0.010625  0.009599   0.118140   \n",
       "3               Воронежская область      0.010780  0.014870   0.142446   \n",
       "4                Ивановская область      0.011411  0.009136   0.128767   \n",
       "..                              ...           ...       ...        ...   \n",
       "80                 Амурская область      0.013523  0.008969   0.119416   \n",
       "81              Магаданская область      0.014666  0.015009   0.154188   \n",
       "82              Сахалинская область      0.013717  0.011120   0.138899   \n",
       "83     Еврейская автономная область      0.013670  0.008793   0.094388   \n",
       "84       Чукотский автономный округ      0.016475  0.009995   0.166442   \n",
       "\n",
       "          BD  under_grad      prof       mid     based   primary      kids  \\\n",
       "0   0.044155    0.012943  0.350188  0.130507  0.064594  0.052690  0.040226   \n",
       "1   0.038232    0.010456  0.338353  0.159067  0.078616  0.060957  0.040040   \n",
       "2   0.041694    0.014020  0.337805  0.157043  0.079137  0.057323  0.035299   \n",
       "3   0.053593    0.017031  0.314673  0.177337  0.088672  0.055415  0.040547   \n",
       "4   0.036776    0.013010  0.348222  0.158222  0.078806  0.055512  0.039581   \n",
       "..       ...         ...       ...       ...       ...       ...       ...   \n",
       "80  0.048982    0.014849  0.339481  0.158212  0.103921  0.060444  0.049485   \n",
       "81  0.070349    0.021964  0.312986  0.158549  0.069165  0.059460  0.038453   \n",
       "82  0.062360    0.021668  0.333936  0.153672  0.090945  0.050416  0.043491   \n",
       "83  0.040854    0.009925  0.292541  0.179577  0.120988  0.068386  0.050459   \n",
       "84  0.051662    0.014034  0.305342  0.159095  0.120622  0.074413  0.060904   \n",
       "\n",
       "     gini  \n",
       "0   0.377  \n",
       "1   0.365  \n",
       "2   0.332  \n",
       "3   0.393  \n",
       "4   0.352  \n",
       "..    ...  \n",
       "80  0.391  \n",
       "81  0.390  \n",
       "82  0.402  \n",
       "83  0.327  \n",
       "84  0.407  \n",
       "\n",
       "[85 rows x 12 columns]"
      ]
     },
     "execution_count": 7,
     "metadata": {},
     "output_type": "execute_result"
    }
   ],
   "source": [
    "data"
   ]
  },
  {
   "cell_type": "code",
   "execution_count": 6,
   "id": "61251e3b",
   "metadata": {},
   "outputs": [
    {
     "data": {
      "text/plain": [
       "(0.15611203458069045, 0.1536562463653689)"
      ]
     },
     "execution_count": 6,
     "metadata": {},
     "output_type": "execute_result"
    }
   ],
   "source": [
    "from scipy. stats import pearsonr\n",
    "pearsonr(data['gini'], data['no_education'])\n"
   ]
  },
  {
   "cell_type": "code",
   "execution_count": 8,
   "id": "7cbb2620",
   "metadata": {},
   "outputs": [
    {
     "data": {
      "text/plain": [
       "(0.3378182756522291, 0.0015673224372592077)"
      ]
     },
     "execution_count": 8,
     "metadata": {},
     "output_type": "execute_result"
    }
   ],
   "source": [
    "from scipy. stats import pearsonr\n",
    "pearsonr(data['gini'], data['MD'])"
   ]
  },
  {
   "cell_type": "code",
   "execution_count": 9,
   "id": "a4abc9da",
   "metadata": {},
   "outputs": [
    {
     "data": {
      "text/plain": [
       "(0.20884096291779264, 0.05509605893035877)"
      ]
     },
     "execution_count": 9,
     "metadata": {},
     "output_type": "execute_result"
    }
   ],
   "source": [
    "pearsonr(data['gini'], data['specialty'])"
   ]
  },
  {
   "cell_type": "code",
   "execution_count": 10,
   "id": "8f7b0404",
   "metadata": {},
   "outputs": [
    {
     "data": {
      "text/plain": [
       "(0.33014487954917293, 0.0020305403306713986)"
      ]
     },
     "execution_count": 10,
     "metadata": {},
     "output_type": "execute_result"
    }
   ],
   "source": [
    "pearsonr(data['gini'], data['BD'])"
   ]
  },
  {
   "cell_type": "code",
   "execution_count": 11,
   "id": "381bba04",
   "metadata": {},
   "outputs": [
    {
     "data": {
      "text/plain": [
       "(0.26438101232862, 0.014482935683069595)"
      ]
     },
     "execution_count": 11,
     "metadata": {},
     "output_type": "execute_result"
    }
   ],
   "source": [
    "pearsonr(data['gini'], data['under_grad'])"
   ]
  },
  {
   "cell_type": "code",
   "execution_count": 12,
   "id": "cc0b9b02",
   "metadata": {},
   "outputs": [
    {
     "data": {
      "text/plain": [
       "(-0.15811578159766476, 0.14837918065112568)"
      ]
     },
     "execution_count": 12,
     "metadata": {},
     "output_type": "execute_result"
    }
   ],
   "source": [
    "pearsonr(data['gini'], data['prof'])"
   ]
  },
  {
   "cell_type": "code",
   "execution_count": 13,
   "id": "67fc3149",
   "metadata": {},
   "outputs": [
    {
     "data": {
      "text/plain": [
       "(-0.24322423561312237, 0.024896012717834818)"
      ]
     },
     "execution_count": 13,
     "metadata": {},
     "output_type": "execute_result"
    }
   ],
   "source": [
    "pearsonr(data['gini'], data['mid'])"
   ]
  },
  {
   "cell_type": "code",
   "execution_count": 14,
   "id": "9b8b662e",
   "metadata": {},
   "outputs": [
    {
     "data": {
      "text/plain": [
       "(-0.13809351275536702, 0.2075407169725664)"
      ]
     },
     "execution_count": 14,
     "metadata": {},
     "output_type": "execute_result"
    }
   ],
   "source": [
    "pearsonr(data['gini'], data['based'])"
   ]
  },
  {
   "cell_type": "code",
   "execution_count": 15,
   "id": "17ffb278",
   "metadata": {},
   "outputs": [
    {
     "data": {
      "text/plain": [
       "(-0.08396651185038431, 0.44485441684130334)"
      ]
     },
     "execution_count": 15,
     "metadata": {},
     "output_type": "execute_result"
    }
   ],
   "source": [
    "pearsonr(data['gini'], data['primary'])"
   ]
  },
  {
   "cell_type": "code",
   "execution_count": 16,
   "id": "fb93615c",
   "metadata": {},
   "outputs": [
    {
     "data": {
      "text/plain": [
       "(0.05503709159840767, 0.6168755637797396)"
      ]
     },
     "execution_count": 16,
     "metadata": {},
     "output_type": "execute_result"
    }
   ],
   "source": [
    "pearsonr(data['gini'], data['kids'])"
   ]
  },
  {
   "cell_type": "code",
   "execution_count": 17,
   "id": "80b49b71",
   "metadata": {},
   "outputs": [
    {
     "data": {
      "text/html": [
       "<div>\n",
       "<style scoped>\n",
       "    .dataframe tbody tr th:only-of-type {\n",
       "        vertical-align: middle;\n",
       "    }\n",
       "\n",
       "    .dataframe tbody tr th {\n",
       "        vertical-align: top;\n",
       "    }\n",
       "\n",
       "    .dataframe thead th {\n",
       "        text-align: right;\n",
       "    }\n",
       "</style>\n",
       "<table border=\"1\" class=\"dataframe\">\n",
       "  <thead>\n",
       "    <tr style=\"text-align: right;\">\n",
       "      <th></th>\n",
       "      <th>no_education</th>\n",
       "      <th>MD</th>\n",
       "      <th>specialty</th>\n",
       "      <th>BD</th>\n",
       "      <th>under_grad</th>\n",
       "      <th>prof</th>\n",
       "      <th>mid</th>\n",
       "      <th>based</th>\n",
       "      <th>primary</th>\n",
       "      <th>kids</th>\n",
       "      <th>gini</th>\n",
       "    </tr>\n",
       "  </thead>\n",
       "  <tbody>\n",
       "    <tr>\n",
       "      <th>count</th>\n",
       "      <td>85.000000</td>\n",
       "      <td>85.000000</td>\n",
       "      <td>85.000000</td>\n",
       "      <td>85.000000</td>\n",
       "      <td>85.000000</td>\n",
       "      <td>85.000000</td>\n",
       "      <td>85.000000</td>\n",
       "      <td>85.000000</td>\n",
       "      <td>85.000000</td>\n",
       "      <td>85.000000</td>\n",
       "      <td>85.000000</td>\n",
       "    </tr>\n",
       "    <tr>\n",
       "      <th>mean</th>\n",
       "      <td>0.013092</td>\n",
       "      <td>0.011586</td>\n",
       "      <td>0.124662</td>\n",
       "      <td>0.044201</td>\n",
       "      <td>0.014823</td>\n",
       "      <td>0.300857</td>\n",
       "      <td>0.147700</td>\n",
       "      <td>0.078823</td>\n",
       "      <td>0.061505</td>\n",
       "      <td>0.045642</td>\n",
       "      <td>0.364553</td>\n",
       "    </tr>\n",
       "    <tr>\n",
       "      <th>std</th>\n",
       "      <td>0.003036</td>\n",
       "      <td>0.003576</td>\n",
       "      <td>0.020253</td>\n",
       "      <td>0.009908</td>\n",
       "      <td>0.003960</td>\n",
       "      <td>0.052851</td>\n",
       "      <td>0.036657</td>\n",
       "      <td>0.021290</td>\n",
       "      <td>0.015746</td>\n",
       "      <td>0.012750</td>\n",
       "      <td>0.025037</td>\n",
       "    </tr>\n",
       "    <tr>\n",
       "      <th>min</th>\n",
       "      <td>0.007306</td>\n",
       "      <td>0.005800</td>\n",
       "      <td>0.057825</td>\n",
       "      <td>0.028766</td>\n",
       "      <td>0.009117</td>\n",
       "      <td>0.125704</td>\n",
       "      <td>0.082093</td>\n",
       "      <td>0.036228</td>\n",
       "      <td>0.031704</td>\n",
       "      <td>0.022279</td>\n",
       "      <td>0.327000</td>\n",
       "    </tr>\n",
       "    <tr>\n",
       "      <th>25%</th>\n",
       "      <td>0.011188</td>\n",
       "      <td>0.009178</td>\n",
       "      <td>0.114876</td>\n",
       "      <td>0.037488</td>\n",
       "      <td>0.011819</td>\n",
       "      <td>0.283527</td>\n",
       "      <td>0.125758</td>\n",
       "      <td>0.067226</td>\n",
       "      <td>0.052992</td>\n",
       "      <td>0.038433</td>\n",
       "      <td>0.349000</td>\n",
       "    </tr>\n",
       "    <tr>\n",
       "      <th>50%</th>\n",
       "      <td>0.012874</td>\n",
       "      <td>0.010812</td>\n",
       "      <td>0.124264</td>\n",
       "      <td>0.042723</td>\n",
       "      <td>0.014020</td>\n",
       "      <td>0.311717</td>\n",
       "      <td>0.145305</td>\n",
       "      <td>0.077407</td>\n",
       "      <td>0.058074</td>\n",
       "      <td>0.042592</td>\n",
       "      <td>0.359000</td>\n",
       "    </tr>\n",
       "    <tr>\n",
       "      <th>75%</th>\n",
       "      <td>0.014297</td>\n",
       "      <td>0.012820</td>\n",
       "      <td>0.134588</td>\n",
       "      <td>0.047951</td>\n",
       "      <td>0.017031</td>\n",
       "      <td>0.337805</td>\n",
       "      <td>0.159067</td>\n",
       "      <td>0.085496</td>\n",
       "      <td>0.066263</td>\n",
       "      <td>0.050303</td>\n",
       "      <td>0.383000</td>\n",
       "    </tr>\n",
       "    <tr>\n",
       "      <th>max</th>\n",
       "      <td>0.027068</td>\n",
       "      <td>0.025158</td>\n",
       "      <td>0.170193</td>\n",
       "      <td>0.074356</td>\n",
       "      <td>0.028287</td>\n",
       "      <td>0.413038</td>\n",
       "      <td>0.306565</td>\n",
       "      <td>0.160242</td>\n",
       "      <td>0.138755</td>\n",
       "      <td>0.101443</td>\n",
       "      <td>0.438000</td>\n",
       "    </tr>\n",
       "  </tbody>\n",
       "</table>\n",
       "</div>"
      ],
      "text/plain": [
       "       no_education         MD  specialty         BD  under_grad       prof  \\\n",
       "count     85.000000  85.000000  85.000000  85.000000   85.000000  85.000000   \n",
       "mean       0.013092   0.011586   0.124662   0.044201    0.014823   0.300857   \n",
       "std        0.003036   0.003576   0.020253   0.009908    0.003960   0.052851   \n",
       "min        0.007306   0.005800   0.057825   0.028766    0.009117   0.125704   \n",
       "25%        0.011188   0.009178   0.114876   0.037488    0.011819   0.283527   \n",
       "50%        0.012874   0.010812   0.124264   0.042723    0.014020   0.311717   \n",
       "75%        0.014297   0.012820   0.134588   0.047951    0.017031   0.337805   \n",
       "max        0.027068   0.025158   0.170193   0.074356    0.028287   0.413038   \n",
       "\n",
       "             mid      based    primary       kids       gini  \n",
       "count  85.000000  85.000000  85.000000  85.000000  85.000000  \n",
       "mean    0.147700   0.078823   0.061505   0.045642   0.364553  \n",
       "std     0.036657   0.021290   0.015746   0.012750   0.025037  \n",
       "min     0.082093   0.036228   0.031704   0.022279   0.327000  \n",
       "25%     0.125758   0.067226   0.052992   0.038433   0.349000  \n",
       "50%     0.145305   0.077407   0.058074   0.042592   0.359000  \n",
       "75%     0.159067   0.085496   0.066263   0.050303   0.383000  \n",
       "max     0.306565   0.160242   0.138755   0.101443   0.438000  "
      ]
     },
     "execution_count": 17,
     "metadata": {},
     "output_type": "execute_result"
    }
   ],
   "source": [
    "data.describe()\n"
   ]
  },
  {
   "cell_type": "code",
   "execution_count": 20,
   "id": "85cb87f8",
   "metadata": {},
   "outputs": [
    {
     "data": {
      "text/plain": [
       "Text(0.5, 1.0, 'Распределение количества магистров\\nот всего населения по регионам РФ')"
      ]
     },
     "execution_count": 20,
     "metadata": {},
     "output_type": "execute_result"
    },
    {
     "data": {
      "image/png": "[encoded data removed]",
      "text/plain": [
       "<Figure size 432x288 with 1 Axes>"
      ]
     },
     "metadata": {
      "needs_background": "light"
     },
     "output_type": "display_data"
    }
   ],
   "source": [
    "plt.hist (data['MD'], edgecolor='black', bins=20) \n",
    "plt.xlabel('Магистры от всего населения', fontsize=16)\n",
    "plt.title('Распределение количества магистров\\nот всего населения по регионам РФ')"
   ]
  },
  {
   "cell_type": "code",
   "execution_count": 21,
   "id": "f06f3d07",
   "metadata": {},
   "outputs": [
    {
     "data": {
      "text/plain": [
       "Text(0.5, 1.0, 'Распределение количества бакалавров\\nот всего населения по регионам РФ')"
      ]
     },
     "execution_count": 21,
     "metadata": {},
     "output_type": "execute_result"
    },
    {
     "data": {
      "image/png": "[encoded data removed]",
      "text/plain": [
       "<Figure size 432x288 with 1 Axes>"
      ]
     },
     "metadata": {
      "needs_background": "light"
     },
     "output_type": "display_data"
    }
   ],
   "source": [
    "plt.hist (data['BD'], edgecolor='black', bins=20) \n",
    "plt.xlabel('Бакалавры от всего населения', fontsize=16)\n",
    "plt.title('Распределение количества бакалавров\\nот всего населения по регионам РФ')"
   ]
  },
  {
   "cell_type": "code",
   "execution_count": 23,
   "id": "9f17d561",
   "metadata": {},
   "outputs": [
    {
     "data": {
      "text/plain": [
       "Text(0.5, 1.0, 'Распределение количества людей, не закончивших \\nвысшее образование (от всего населения+по регионам РФ)')"
      ]
     },
     "execution_count": 23,
     "metadata": {},
     "output_type": "execute_result"
    },
    {
     "data": {
      "image/png": "[encoded data removed]",
      "text/plain": [
       "<Figure size 432x288 with 1 Axes>"
      ]
     },
     "metadata": {
      "needs_background": "light"
     },
     "output_type": "display_data"
    }
   ],
   "source": [
    "plt.hist (data['under_grad'], edgecolor='black', bins=20) \n",
    "plt.xlabel('Количество людей, не закончивших \\nвысшее образование (от всего населения)', fontsize=16)\n",
    "plt.title('Распределение количества людей, не закончивших \\nвысшее образование (от всего населения+по регионам РФ)')"
   ]
  },
  {
   "cell_type": "code",
   "execution_count": 24,
   "id": "c2124a28",
   "metadata": {},
   "outputs": [
    {
     "data": {
      "text/plain": [
       "Text(0.5, 1.0, 'Распределение количества людей, закончивших \\nсреднее общее образование (от всего населения+по регионам РФ)')"
      ]
     },
     "execution_count": 24,
     "metadata": {},
     "output_type": "execute_result"
    },
    {
     "data": {
      "image/png": "[encoded data removed]",
      "text/plain": [
       "<Figure size 432x288 with 1 Axes>"
      ]
     },
     "metadata": {
      "needs_background": "light"
     },
     "output_type": "display_data"
    }
   ],
   "source": [
    "plt.hist (data['mid'], edgecolor='black', bins=20) \n",
    "plt.xlabel('Количество людей, закончивших \\nсреднее общее образование (от всего населения)', fontsize=16)\n",
    "plt.title('Распределение количества людей, закончивших \\nсреднее общее образование (от всего населения+по регионам РФ)')"
   ]
  },
  {
   "cell_type": "code",
   "execution_count": 27,
   "id": "84291f10",
   "metadata": {},
   "outputs": [
    {
     "data": {
      "text/plain": [
       "Text(0, 0.5, 'Магистры от всего населения')"
      ]
     },
     "execution_count": 27,
     "metadata": {},
     "output_type": "execute_result"
    },
    {
     "data": {
      "image/png": "[encoded data removed]",
      "text/plain": [
       "<Figure size 432x288 with 1 Axes>"
      ]
     },
     "metadata": {
      "needs_background": "light"
     },
     "output_type": "display_data"
    }
   ],
   "source": [
    "plt.plot(data['gini'], data['MD'], 'o')\n",
    "plt.xlabel('Коэффициент Джини')\n",
    "plt.ylabel('Магистры от всего населения')"
   ]
  },
  {
   "cell_type": "code",
   "execution_count": 28,
   "id": "c33ee28f",
   "metadata": {},
   "outputs": [
    {
     "data": {
      "text/plain": [
       "Text(0, 0.5, 'Бакалавры от всего населения')"
      ]
     },
     "execution_count": 28,
     "metadata": {},
     "output_type": "execute_result"
    },
    {
     "data": {
      "image/png": "[encoded data removed]",
      "text/plain": [
       "<Figure size 432x288 with 1 Axes>"
      ]
     },
     "metadata": {
      "needs_background": "light"
     },
     "output_type": "display_data"
    }
   ],
   "source": [
    "plt.plot(data['gini'], data['BD'], 'o')\n",
    "plt.xlabel('Коэффициент Джини')\n",
    "plt.ylabel('Бакалавры от всего населения')"
   ]
  },
  {
   "cell_type": "code",
   "execution_count": 29,
   "id": "7cde889a",
   "metadata": {},
   "outputs": [
    {
     "data": {
      "text/plain": [
       "Text(0, 0.5, 'Количество людей, не закончивших \\nвысшее образование (от всего населения)')"
      ]
     },
     "execution_count": 29,
     "metadata": {},
     "output_type": "execute_result"
    },
    {
     "data": {
      "image/png": "[encoded data removed]",
      "text/plain": [
       "<Figure size 432x288 with 1 Axes>"
      ]
     },
     "metadata": {
      "needs_background": "light"
     },
     "output_type": "display_data"
    }
   ],
   "source": [
    "plt.plot(data['gini'], data['under_grad'], 'o')\n",
    "plt.xlabel('Коэффициент Джини')\n",
    "plt.ylabel('Количество людей, не закончивших \\nвысшее образование (от всего населения)')"
   ]
  },
  {
   "cell_type": "code",
   "execution_count": 30,
   "id": "ddaecfad",
   "metadata": {},
   "outputs": [
    {
     "data": {
      "text/plain": [
       "Text(0, 0.5, 'Количество людей, закончивших \\nсреднее общее образование (от всего населения)')"
      ]
     },
     "execution_count": 30,
     "metadata": {},
     "output_type": "execute_result"
    },
    {
     "data": {
      "image/png": "[encoded data removed]",
      "text/plain": [
       "<Figure size 432x288 with 1 Axes>"
      ]
     },
     "metadata": {
      "needs_background": "light"
     },
     "output_type": "display_data"
    }
   ],
   "source": [
    "plt.plot(data['gini'], data['mid'], 'o')\n",
    "plt.xlabel('Коэффициент Джини')\n",
    "plt.ylabel('Количество людей, закончивших \\nсреднее общее образование (от всего населения)')"
   ]
  },
  {
   "cell_type": "code",
   "execution_count": 31,
   "id": "27d60cef",
   "metadata": {},
   "outputs": [],
   "source": [
    "from scipy.stats import shapiro \n",
    "from scipy. stats import lognorm\n",
    "np.random.seed (1)"
   ]
  },
  {
   "cell_type": "code",
   "execution_count": 32,
   "id": "25c6be6b",
   "metadata": {},
   "outputs": [
    {
     "data": {
      "text/plain": [
       "ShapiroResult(statistic=0.9559361934661865, pvalue=0.005496971774846315)"
      ]
     },
     "execution_count": 32,
     "metadata": {},
     "output_type": "execute_result"
    }
   ],
   "source": [
    "shapiro(data['gini'])"
   ]
  },
  {
   "cell_type": "code",
   "execution_count": 33,
   "id": "17ca64f2",
   "metadata": {},
   "outputs": [
    {
     "data": {
      "text/plain": [
       "ShapiroResult(statistic=0.8656932711601257, pvalue=2.9703505788347684e-07)"
      ]
     },
     "execution_count": 33,
     "metadata": {},
     "output_type": "execute_result"
    }
   ],
   "source": [
    "shapiro(data['MD'])"
   ]
  },
  {
   "cell_type": "code",
   "execution_count": 37,
   "id": "487e986b",
   "metadata": {},
   "outputs": [
    {
     "data": {
      "text/plain": [
       "ShapiroResult(statistic=0.925057053565979, pvalue=0.0001034217348205857)"
      ]
     },
     "execution_count": 37,
     "metadata": {},
     "output_type": "execute_result"
    }
   ],
   "source": [
    "shapiro(data['BD'])"
   ]
  },
  {
   "cell_type": "code",
   "execution_count": 35,
   "id": "01629cb1",
   "metadata": {},
   "outputs": [
    {
     "data": {
      "text/plain": [
       "ShapiroResult(statistic=0.9075614809989929, pvalue=1.5110164895304479e-05)"
      ]
     },
     "execution_count": 35,
     "metadata": {},
     "output_type": "execute_result"
    }
   ],
   "source": [
    "shapiro(data['under_grad'])"
   ]
  },
  {
   "cell_type": "code",
   "execution_count": 36,
   "id": "bb559d83",
   "metadata": {},
   "outputs": [
    {
     "data": {
      "text/plain": [
       "ShapiroResult(statistic=0.8698477745056152, pvalue=4.23846813646378e-07)"
      ]
     },
     "execution_count": 36,
     "metadata": {},
     "output_type": "execute_result"
    }
   ],
   "source": [
    "shapiro(data['mid'])"
   ]
  },
  {
   "cell_type": "code",
   "execution_count": null,
   "id": "6a0b5f50",
   "metadata": {},
   "outputs": [],
   "source": [
    "y = data['gini']\n",
    "\n",
    "#переменные-предикторы  \n",
    "x = data[['MD', 'BD', 'under_grad', 'mid']]\n",
    "\n",
    "#добавляем константу к переменным-предикторам \n",
    "x = sm.add_constant (x)\n",
    "\n",
    "# обуч регрессионную модель \n",
    "model = sm. OLS (y, x). fit ()"
   ]
  },
  {
   "cell_type": "code",
   "execution_count": null,
   "id": "67e9990a",
   "metadata": {},
   "outputs": [
    {
     "name": "stdout",
     "output_type": "stream",
     "text": [
      "{'Test Statistic': 21.418780362392056, 'Test Statistic p-value': 0.09137221156161318, 'F-Statistic': 1.6843637543029266, 'F-Test p-value': 0.07876659800267545}\n"
     ]
    }
   ],
   "source": [
    "from statsmodels. stats.diagnostic import het_white\n",
    "white_test = het_white(model. resid , model. model.exog )\n",
    "\n",
    "labels = ['Test Statistic', 'Test Statistic p-value', 'F-Statistic', 'F-Test p-value']\n",
    "\n",
    "print(dict(zip(labels, white_test)))"
   ]
  },
  {
   "cell_type": "code",
   "execution_count": null,
   "id": "51031170",
   "metadata": {},
   "outputs": [
    {
     "name": "stdout",
     "output_type": "stream",
     "text": [
      "   VIF Factor    features\n",
      "0   20.283591          MD\n",
      "1   62.168677          BD\n",
      "2   46.551889  under_grad\n",
      "3   12.122245         mid\n"
     ]
    }
   ],
   "source": [
    "import pandas as pd\n",
    "from statsmodels.stats.outliers_influence import variance_inflation_factor\n",
    "\n",
    "# незав переменные\n",
    "X = data[['MD', 'BD', 'under_grad', 'mid']]\n",
    "\n",
    "# вычислить VIF для каждой независимой переменной\n",
    "vif = pd.DataFrame()\n",
    "vif[\"VIF Factor\"] = [variance_inflation_factor(X.values, i) for i in range(X.shape[1])]\n",
    "vif[\"features\"] = X.columns\n",
    "\n",
    "print(vif)"
   ]
  },
  {
   "cell_type": "code",
   "execution_count": 43,
   "id": "7014810f",
   "metadata": {},
   "outputs": [
    {
     "data": {
      "text/html": [
       "<div>\n",
       "<style scoped>\n",
       "    .dataframe tbody tr th:only-of-type {\n",
       "        vertical-align: middle;\n",
       "    }\n",
       "\n",
       "    .dataframe tbody tr th {\n",
       "        vertical-align: top;\n",
       "    }\n",
       "\n",
       "    .dataframe thead th {\n",
       "        text-align: right;\n",
       "    }\n",
       "</style>\n",
       "<table border=\"1\" class=\"dataframe\">\n",
       "  <thead>\n",
       "    <tr style=\"text-align: right;\">\n",
       "      <th></th>\n",
       "      <th>region</th>\n",
       "      <th>no_education</th>\n",
       "      <th>MD</th>\n",
       "      <th>specialty</th>\n",
       "      <th>BD</th>\n",
       "      <th>under_grad</th>\n",
       "      <th>prof</th>\n",
       "      <th>mid</th>\n",
       "      <th>based</th>\n",
       "      <th>primary</th>\n",
       "      <th>kids</th>\n",
       "      <th>gini</th>\n",
       "    </tr>\n",
       "  </thead>\n",
       "  <tbody>\n",
       "    <tr>\n",
       "      <th>0</th>\n",
       "      <td>Белгородская область</td>\n",
       "      <td>0.010161</td>\n",
       "      <td>0.010348</td>\n",
       "      <td>0.130453</td>\n",
       "      <td>0.044155</td>\n",
       "      <td>0.012943</td>\n",
       "      <td>0.350188</td>\n",
       "      <td>0.130507</td>\n",
       "      <td>0.064594</td>\n",
       "      <td>0.052690</td>\n",
       "      <td>0.040226</td>\n",
       "      <td>0.377</td>\n",
       "    </tr>\n",
       "    <tr>\n",
       "      <th>1</th>\n",
       "      <td>Брянская область</td>\n",
       "      <td>0.011335</td>\n",
       "      <td>0.008682</td>\n",
       "      <td>0.124264</td>\n",
       "      <td>0.038232</td>\n",
       "      <td>0.010456</td>\n",
       "      <td>0.338353</td>\n",
       "      <td>0.159067</td>\n",
       "      <td>0.078616</td>\n",
       "      <td>0.060957</td>\n",
       "      <td>0.040040</td>\n",
       "      <td>0.365</td>\n",
       "    </tr>\n",
       "    <tr>\n",
       "      <th>2</th>\n",
       "      <td>Владимирская область</td>\n",
       "      <td>0.010625</td>\n",
       "      <td>0.009599</td>\n",
       "      <td>0.118140</td>\n",
       "      <td>0.041694</td>\n",
       "      <td>0.014020</td>\n",
       "      <td>0.337805</td>\n",
       "      <td>0.157043</td>\n",
       "      <td>0.079137</td>\n",
       "      <td>0.057323</td>\n",
       "      <td>0.035299</td>\n",
       "      <td>0.332</td>\n",
       "    </tr>\n",
       "    <tr>\n",
       "      <th>3</th>\n",
       "      <td>Воронежская область</td>\n",
       "      <td>0.010780</td>\n",
       "      <td>0.014870</td>\n",
       "      <td>0.142446</td>\n",
       "      <td>0.053593</td>\n",
       "      <td>0.017031</td>\n",
       "      <td>0.314673</td>\n",
       "      <td>0.177337</td>\n",
       "      <td>0.088672</td>\n",
       "      <td>0.055415</td>\n",
       "      <td>0.040547</td>\n",
       "      <td>0.393</td>\n",
       "    </tr>\n",
       "    <tr>\n",
       "      <th>4</th>\n",
       "      <td>Ивановская область</td>\n",
       "      <td>0.011411</td>\n",
       "      <td>0.009136</td>\n",
       "      <td>0.128767</td>\n",
       "      <td>0.036776</td>\n",
       "      <td>0.013010</td>\n",
       "      <td>0.348222</td>\n",
       "      <td>0.158222</td>\n",
       "      <td>0.078806</td>\n",
       "      <td>0.055512</td>\n",
       "      <td>0.039581</td>\n",
       "      <td>0.352</td>\n",
       "    </tr>\n",
       "    <tr>\n",
       "      <th>...</th>\n",
       "      <td>...</td>\n",
       "      <td>...</td>\n",
       "      <td>...</td>\n",
       "      <td>...</td>\n",
       "      <td>...</td>\n",
       "      <td>...</td>\n",
       "      <td>...</td>\n",
       "      <td>...</td>\n",
       "      <td>...</td>\n",
       "      <td>...</td>\n",
       "      <td>...</td>\n",
       "      <td>...</td>\n",
       "    </tr>\n",
       "    <tr>\n",
       "      <th>80</th>\n",
       "      <td>Амурская область</td>\n",
       "      <td>0.013523</td>\n",
       "      <td>0.008969</td>\n",
       "      <td>0.119416</td>\n",
       "      <td>0.048982</td>\n",
       "      <td>0.014849</td>\n",
       "      <td>0.339481</td>\n",
       "      <td>0.158212</td>\n",
       "      <td>0.103921</td>\n",
       "      <td>0.060444</td>\n",
       "      <td>0.049485</td>\n",
       "      <td>0.391</td>\n",
       "    </tr>\n",
       "    <tr>\n",
       "      <th>81</th>\n",
       "      <td>Магаданская область</td>\n",
       "      <td>0.014666</td>\n",
       "      <td>0.015009</td>\n",
       "      <td>0.154188</td>\n",
       "      <td>0.070349</td>\n",
       "      <td>0.021964</td>\n",
       "      <td>0.312986</td>\n",
       "      <td>0.158549</td>\n",
       "      <td>0.069165</td>\n",
       "      <td>0.059460</td>\n",
       "      <td>0.038453</td>\n",
       "      <td>0.390</td>\n",
       "    </tr>\n",
       "    <tr>\n",
       "      <th>82</th>\n",
       "      <td>Сахалинская область</td>\n",
       "      <td>0.013717</td>\n",
       "      <td>0.011120</td>\n",
       "      <td>0.138899</td>\n",
       "      <td>0.062360</td>\n",
       "      <td>0.021668</td>\n",
       "      <td>0.333936</td>\n",
       "      <td>0.153672</td>\n",
       "      <td>0.090945</td>\n",
       "      <td>0.050416</td>\n",
       "      <td>0.043491</td>\n",
       "      <td>0.402</td>\n",
       "    </tr>\n",
       "    <tr>\n",
       "      <th>83</th>\n",
       "      <td>Еврейская автономная область</td>\n",
       "      <td>0.013670</td>\n",
       "      <td>0.008793</td>\n",
       "      <td>0.094388</td>\n",
       "      <td>0.040854</td>\n",
       "      <td>0.009925</td>\n",
       "      <td>0.292541</td>\n",
       "      <td>0.179577</td>\n",
       "      <td>0.120988</td>\n",
       "      <td>0.068386</td>\n",
       "      <td>0.050459</td>\n",
       "      <td>0.327</td>\n",
       "    </tr>\n",
       "    <tr>\n",
       "      <th>84</th>\n",
       "      <td>Чукотский автономный округ</td>\n",
       "      <td>0.016475</td>\n",
       "      <td>0.009995</td>\n",
       "      <td>0.166442</td>\n",
       "      <td>0.051662</td>\n",
       "      <td>0.014034</td>\n",
       "      <td>0.305342</td>\n",
       "      <td>0.159095</td>\n",
       "      <td>0.120622</td>\n",
       "      <td>0.074413</td>\n",
       "      <td>0.060904</td>\n",
       "      <td>0.407</td>\n",
       "    </tr>\n",
       "  </tbody>\n",
       "</table>\n",
       "<p>85 rows × 12 columns</p>\n",
       "</div>"
      ],
      "text/plain": [
       "                             region  no_education        MD  specialty  \\\n",
       "0              Белгородская область      0.010161  0.010348   0.130453   \n",
       "1                  Брянская область      0.011335  0.008682   0.124264   \n",
       "2              Владимирская область      0.010625  0.009599   0.118140   \n",
       "3               Воронежская область      0.010780  0.014870   0.142446   \n",
       "4                Ивановская область      0.011411  0.009136   0.128767   \n",
       "..                              ...           ...       ...        ...   \n",
       "80                 Амурская область      0.013523  0.008969   0.119416   \n",
       "81              Магаданская область      0.014666  0.015009   0.154188   \n",
       "82              Сахалинская область      0.013717  0.011120   0.138899   \n",
       "83     Еврейская автономная область      0.013670  0.008793   0.094388   \n",
       "84       Чукотский автономный округ      0.016475  0.009995   0.166442   \n",
       "\n",
       "          BD  under_grad      prof       mid     based   primary      kids  \\\n",
       "0   0.044155    0.012943  0.350188  0.130507  0.064594  0.052690  0.040226   \n",
       "1   0.038232    0.010456  0.338353  0.159067  0.078616  0.060957  0.040040   \n",
       "2   0.041694    0.014020  0.337805  0.157043  0.079137  0.057323  0.035299   \n",
       "3   0.053593    0.017031  0.314673  0.177337  0.088672  0.055415  0.040547   \n",
       "4   0.036776    0.013010  0.348222  0.158222  0.078806  0.055512  0.039581   \n",
       "..       ...         ...       ...       ...       ...       ...       ...   \n",
       "80  0.048982    0.014849  0.339481  0.158212  0.103921  0.060444  0.049485   \n",
       "81  0.070349    0.021964  0.312986  0.158549  0.069165  0.059460  0.038453   \n",
       "82  0.062360    0.021668  0.333936  0.153672  0.090945  0.050416  0.043491   \n",
       "83  0.040854    0.009925  0.292541  0.179577  0.120988  0.068386  0.050459   \n",
       "84  0.051662    0.014034  0.305342  0.159095  0.120622  0.074413  0.060904   \n",
       "\n",
       "     gini  \n",
       "0   0.377  \n",
       "1   0.365  \n",
       "2   0.332  \n",
       "3   0.393  \n",
       "4   0.352  \n",
       "..    ...  \n",
       "80  0.391  \n",
       "81  0.390  \n",
       "82  0.402  \n",
       "83  0.327  \n",
       "84  0.407  \n",
       "\n",
       "[85 rows x 12 columns]"
      ]
     },
     "execution_count": 43,
     "metadata": {},
     "output_type": "execute_result"
    }
   ],
   "source": [
    "np.random.seed (1)\n",
    "data"
   ]
  },
  {
   "cell_type": "code",
   "execution_count": 44,
   "id": "f59621cc",
   "metadata": {},
   "outputs": [],
   "source": [
    "data_log = np.log (data[['no_education', 'MD', 'specialty', 'BD', 'under_grad', 'prof', 'mid','based', 'primary', 'kids', 'gini']])\n"
   ]
  },
  {
   "cell_type": "code",
   "execution_count": 46,
   "id": "d11c5d88",
   "metadata": {},
   "outputs": [
    {
     "data": {
      "text/plain": [
       "Text(0.5, 1.0, 'Распределение количества магистров\\nот всего населения по регионам РФ')"
      ]
     },
     "execution_count": 46,
     "metadata": {},
     "output_type": "execute_result"
    },
    {
     "data": {
      "image/png": "[encoded data removed]",
      "text/plain": [
       "<Figure size 432x288 with 1 Axes>"
      ]
     },
     "metadata": {
      "needs_background": "light"
     },
     "output_type": "display_data"
    }
   ],
   "source": [
    "plt.hist (data_log['MD'], edgecolor='black', bins=20) \n",
    "plt.xlabel('Магистры от всего населения', fontsize=16)\n",
    "plt.title('Распределение количества магистров\\nот всего населения по регионам РФ')"
   ]
  },
  {
   "cell_type": "code",
   "execution_count": 50,
   "id": "339b790a",
   "metadata": {},
   "outputs": [
    {
     "data": {
      "text/plain": [
       "ShapiroResult(statistic=0.9678142666816711, pvalue=0.031991664320230484)"
      ]
     },
     "execution_count": 50,
     "metadata": {},
     "output_type": "execute_result"
    }
   ],
   "source": [
    "shapiro(data_log['MD'])"
   ]
  },
  {
   "cell_type": "code",
   "execution_count": 49,
   "id": "7e3f01be",
   "metadata": {},
   "outputs": [
    {
     "data": {
      "text/plain": [
       "Text(0.5, 1.0, 'Распределение количества бакалавров\\nот всего населения по регионам РФ')"
      ]
     },
     "execution_count": 49,
     "metadata": {},
     "output_type": "execute_result"
    },
    {
     "data": {
      "image/png": "[encoded data removed]",
      "text/plain": [
       "<Figure size 432x288 with 1 Axes>"
      ]
     },
     "metadata": {
      "needs_background": "light"
     },
     "output_type": "display_data"
    }
   ],
   "source": [
    "plt.hist (data_log['BD'], edgecolor='black', bins=20) \n",
    "plt.xlabel('Бакалавры от всего населения', fontsize=16)\n",
    "plt.title('Распределение количества бакалавров\\nот всего населения по регионам РФ')"
   ]
  },
  {
   "cell_type": "code",
   "execution_count": 52,
   "id": "c080272a",
   "metadata": {},
   "outputs": [
    {
     "data": {
      "text/plain": [
       "ShapiroResult(statistic=0.9745956063270569, pvalue=0.09141060709953308)"
      ]
     },
     "execution_count": 52,
     "metadata": {},
     "output_type": "execute_result"
    }
   ],
   "source": [
    "shapiro(data_log['BD'])"
   ]
  },
  {
   "cell_type": "code",
   "execution_count": 53,
   "id": "7f215153",
   "metadata": {},
   "outputs": [
    {
     "data": {
      "text/plain": [
       "Text(0.5, 1.0, 'Распределение количества людей, не закончивших \\nвысшее образование (от всего населения+по регионам РФ)')"
      ]
     },
     "execution_count": 53,
     "metadata": {},
     "output_type": "execute_result"
    },
    {
     "data": {
      "image/png": "[encoded data removed]",
      "text/plain": [
       "<Figure size 432x288 with 1 Axes>"
      ]
     },
     "metadata": {
      "needs_background": "light"
     },
     "output_type": "display_data"
    }
   ],
   "source": [
    "plt.hist (data_log['under_grad'], edgecolor='black', bins=20) \n",
    "plt.xlabel('Количество людей, не закончивших \\nвысшее образование (от всего населения)', fontsize=16)\n",
    "plt.title('Распределение количества людей, не закончивших \\nвысшее образование (от всего населения+по регионам РФ)')"
   ]
  },
  {
   "cell_type": "code",
   "execution_count": 54,
   "id": "f4b3e8a6",
   "metadata": {},
   "outputs": [
    {
     "data": {
      "text/plain": [
       "ShapiroResult(statistic=0.9748184084892273, pvalue=0.09463300555944443)"
      ]
     },
     "execution_count": 54,
     "metadata": {},
     "output_type": "execute_result"
    }
   ],
   "source": [
    "shapiro(data_log['under_grad'])"
   ]
  },
  {
   "cell_type": "code",
   "execution_count": 55,
   "id": "611a681f",
   "metadata": {},
   "outputs": [
    {
     "data": {
      "text/plain": [
       "Text(0.5, 1.0, 'Распределение количества людей, закончивших \\nсреднее общее образование (от всего населения+по регионам РФ)')"
      ]
     },
     "execution_count": 55,
     "metadata": {},
     "output_type": "execute_result"
    },
    {
     "data": {
      "image/png": "[encoded data removed]",
      "text/plain": [
       "<Figure size 432x288 with 1 Axes>"
      ]
     },
     "metadata": {
      "needs_background": "light"
     },
     "output_type": "display_data"
    }
   ],
   "source": [
    "plt.hist (data_log['mid'], edgecolor='black', bins=20) \n",
    "plt.xlabel('Количество людей, закончивших \\nсреднее общее образование (от всего населения)', fontsize=16)\n",
    "plt.title('Распределение количества людей, закончивших \\nсреднее общее образование (от всего населения+по регионам РФ)')"
   ]
  },
  {
   "cell_type": "code",
   "execution_count": 56,
   "id": "e1c286de",
   "metadata": {},
   "outputs": [
    {
     "data": {
      "text/plain": [
       "ShapiroResult(statistic=0.958406388759613, pvalue=0.007844887673854828)"
      ]
     },
     "execution_count": 56,
     "metadata": {},
     "output_type": "execute_result"
    }
   ],
   "source": [
    "shapiro(data_log['mid'])"
   ]
  },
  {
   "cell_type": "code",
   "execution_count": 57,
   "id": "f4bb3d05",
   "metadata": {},
   "outputs": [
    {
     "data": {
      "text/plain": [
       "ShapiroResult(statistic=0.9660743474960327, pvalue=0.024531587958335876)"
      ]
     },
     "execution_count": 57,
     "metadata": {},
     "output_type": "execute_result"
    }
   ],
   "source": [
    "shapiro(data_log['gini'])"
   ]
  },
  {
   "cell_type": "code",
   "execution_count": 58,
   "id": "93660b67",
   "metadata": {},
   "outputs": [],
   "source": [
    "from sklearn. preprocessing import scale \n",
    "from sklearn import model_selection\n",
    "from sklearn. model_selection import RepeatedKFold\n",
    "from sklearn. model_selection import train_test_split\n",
    "from sklearn. cross_decomposition import PLSRegression\n",
    "from sklearn.metrics import mean_squared_error"
   ]
  },
  {
   "cell_type": "code",
   "execution_count": null,
   "id": "44841c22",
   "metadata": {},
   "outputs": [
    {
     "name": "stderr",
     "output_type": "stream",
     "text": [
      "D:\\anaconda\\lib\\site-packages\\sklearn\\cross_decomposition\\_pls.py:93: RuntimeWarning: invalid value encountered in true_divide\n",
      "  y_weights = np.dot(Y.T, x_score) / np.dot(x_score.T, x_score)\n",
      "D:\\anaconda\\lib\\site-packages\\sklearn\\cross_decomposition\\_pls.py:325: RuntimeWarning: invalid value encountered in true_divide\n",
      "  x_loadings = np.dot(x_scores, Xk) / np.dot(x_scores, x_scores)\n",
      "D:\\anaconda\\lib\\site-packages\\sklearn\\cross_decomposition\\_pls.py:334: RuntimeWarning: invalid value encountered in true_divide\n",
      "  y_loadings = np.dot(x_scores, Yk) / np.dot(x_scores, x_scores)\n",
      "D:\\anaconda\\lib\\site-packages\\sklearn\\model_selection\\_validation.py:770: UserWarning: Scoring failed. The score on this train-test partition for these parameters will be set to nan. Details: \n",
      "Traceback (most recent call last):\n",
      "  File \"D:\\anaconda\\lib\\site-packages\\sklearn\\model_selection\\_validation.py\", line 761, in _score\n",
      "    scores = scorer(estimator, X_test, y_test)\n",
      "  File \"D:\\anaconda\\lib\\site-packages\\sklearn\\metrics\\_scorer.py\", line 103, in __call__\n",
      "    score = scorer._score(cached_call, estimator, *args, **kwargs)\n",
      "  File \"D:\\anaconda\\lib\\site-packages\\sklearn\\metrics\\_scorer.py\", line 264, in _score\n",
      "    return self._sign * self._score_func(y_true, y_pred, **self._kwargs)\n",
      "  File \"D:\\anaconda\\lib\\site-packages\\sklearn\\metrics\\_regression.py\", line 438, in mean_squared_error\n",
      "    y_type, y_true, y_pred, multioutput = _check_reg_targets(\n",
      "  File \"D:\\anaconda\\lib\\site-packages\\sklearn\\metrics\\_regression.py\", line 96, in _check_reg_targets\n",
      "    y_pred = check_array(y_pred, ensure_2d=False, dtype=dtype)\n",
      "  File \"D:\\anaconda\\lib\\site-packages\\sklearn\\utils\\validation.py\", line 800, in check_array\n",
      "    _assert_all_finite(array, allow_nan=force_all_finite == \"allow-nan\")\n",
      "  File \"D:\\anaconda\\lib\\site-packages\\sklearn\\utils\\validation.py\", line 114, in _assert_all_finite\n",
      "    raise ValueError(\n",
      "ValueError: Input contains NaN, infinity or a value too large for dtype('float64').\n",
      "\n",
      "  warnings.warn(\n",
      "D:\\anaconda\\lib\\site-packages\\sklearn\\cross_decomposition\\_pls.py:93: RuntimeWarning: invalid value encountered in true_divide\n",
      "  y_weights = np.dot(Y.T, x_score) / np.dot(x_score.T, x_score)\n",
      "D:\\anaconda\\lib\\site-packages\\sklearn\\cross_decomposition\\_pls.py:325: RuntimeWarning: invalid value encountered in true_divide\n",
      "  x_loadings = np.dot(x_scores, Xk) / np.dot(x_scores, x_scores)\n",
      "D:\\anaconda\\lib\\site-packages\\sklearn\\cross_decomposition\\_pls.py:334: RuntimeWarning: invalid value encountered in true_divide\n",
      "  y_loadings = np.dot(x_scores, Yk) / np.dot(x_scores, x_scores)\n",
      "D:\\anaconda\\lib\\site-packages\\sklearn\\model_selection\\_validation.py:770: UserWarning: Scoring failed. The score on this train-test partition for these parameters will be set to nan. Details: \n",
      "Traceback (most recent call last):\n",
      "  File \"D:\\anaconda\\lib\\site-packages\\sklearn\\model_selection\\_validation.py\", line 761, in _score\n",
      "    scores = scorer(estimator, X_test, y_test)\n",
      "  File \"D:\\anaconda\\lib\\site-packages\\sklearn\\metrics\\_scorer.py\", line 103, in __call__\n",
      "    score = scorer._score(cached_call, estimator, *args, **kwargs)\n",
      "  File \"D:\\anaconda\\lib\\site-packages\\sklearn\\metrics\\_scorer.py\", line 264, in _score\n",
      "    return self._sign * self._score_func(y_true, y_pred, **self._kwargs)\n",
      "  File \"D:\\anaconda\\lib\\site-packages\\sklearn\\metrics\\_regression.py\", line 438, in mean_squared_error\n",
      "    y_type, y_true, y_pred, multioutput = _check_reg_targets(\n",
      "  File \"D:\\anaconda\\lib\\site-packages\\sklearn\\metrics\\_regression.py\", line 96, in _check_reg_targets\n",
      "    y_pred = check_array(y_pred, ensure_2d=False, dtype=dtype)\n",
      "  File \"D:\\anaconda\\lib\\site-packages\\sklearn\\utils\\validation.py\", line 800, in check_array\n",
      "    _assert_all_finite(array, allow_nan=force_all_finite == \"allow-nan\")\n",
      "  File \"D:\\anaconda\\lib\\site-packages\\sklearn\\utils\\validation.py\", line 114, in _assert_all_finite\n",
      "    raise ValueError(\n",
      "ValueError: Input contains NaN, infinity or a value too large for dtype('float64').\n",
      "\n",
      "  warnings.warn(\n",
      "D:\\anaconda\\lib\\site-packages\\sklearn\\cross_decomposition\\_pls.py:93: RuntimeWarning: invalid value encountered in true_divide\n",
      "  y_weights = np.dot(Y.T, x_score) / np.dot(x_score.T, x_score)\n",
      "D:\\anaconda\\lib\\site-packages\\sklearn\\cross_decomposition\\_pls.py:325: RuntimeWarning: invalid value encountered in true_divide\n",
      "  x_loadings = np.dot(x_scores, Xk) / np.dot(x_scores, x_scores)\n",
      "D:\\anaconda\\lib\\site-packages\\sklearn\\cross_decomposition\\_pls.py:334: RuntimeWarning: invalid value encountered in true_divide\n",
      "  y_loadings = np.dot(x_scores, Yk) / np.dot(x_scores, x_scores)\n",
      "D:\\anaconda\\lib\\site-packages\\sklearn\\model_selection\\_validation.py:770: UserWarning: Scoring failed. The score on this train-test partition for these parameters will be set to nan. Details: \n",
      "Traceback (most recent call last):\n",
      "  File \"D:\\anaconda\\lib\\site-packages\\sklearn\\model_selection\\_validation.py\", line 761, in _score\n",
      "    scores = scorer(estimator, X_test, y_test)\n",
      "  File \"D:\\anaconda\\lib\\site-packages\\sklearn\\metrics\\_scorer.py\", line 103, in __call__\n",
      "    score = scorer._score(cached_call, estimator, *args, **kwargs)\n",
      "  File \"D:\\anaconda\\lib\\site-packages\\sklearn\\metrics\\_scorer.py\", line 264, in _score\n",
      "    return self._sign * self._score_func(y_true, y_pred, **self._kwargs)\n",
      "  File \"D:\\anaconda\\lib\\site-packages\\sklearn\\metrics\\_regression.py\", line 438, in mean_squared_error\n",
      "    y_type, y_true, y_pred, multioutput = _check_reg_targets(\n",
      "  File \"D:\\anaconda\\lib\\site-packages\\sklearn\\metrics\\_regression.py\", line 96, in _check_reg_targets\n",
      "    y_pred = check_array(y_pred, ensure_2d=False, dtype=dtype)\n",
      "  File \"D:\\anaconda\\lib\\site-packages\\sklearn\\utils\\validation.py\", line 800, in check_array\n",
      "    _assert_all_finite(array, allow_nan=force_all_finite == \"allow-nan\")\n",
      "  File \"D:\\anaconda\\lib\\site-packages\\sklearn\\utils\\validation.py\", line 114, in _assert_all_finite\n",
      "    raise ValueError(\n",
      "ValueError: Input contains NaN, infinity or a value too large for dtype('float64').\n",
      "\n",
      "  warnings.warn(\n",
      "D:\\anaconda\\lib\\site-packages\\sklearn\\cross_decomposition\\_pls.py:93: RuntimeWarning: invalid value encountered in true_divide\n",
      "  y_weights = np.dot(Y.T, x_score) / np.dot(x_score.T, x_score)\n",
      "D:\\anaconda\\lib\\site-packages\\sklearn\\cross_decomposition\\_pls.py:325: RuntimeWarning: invalid value encountered in true_divide\n",
      "  x_loadings = np.dot(x_scores, Xk) / np.dot(x_scores, x_scores)\n",
      "D:\\anaconda\\lib\\site-packages\\sklearn\\cross_decomposition\\_pls.py:334: RuntimeWarning: invalid value encountered in true_divide\n",
      "  y_loadings = np.dot(x_scores, Yk) / np.dot(x_scores, x_scores)\n",
      "D:\\anaconda\\lib\\site-packages\\sklearn\\model_selection\\_validation.py:770: UserWarning: Scoring failed. The score on this train-test partition for these parameters will be set to nan. Details: \n",
      "Traceback (most recent call last):\n",
      "  File \"D:\\anaconda\\lib\\site-packages\\sklearn\\model_selection\\_validation.py\", line 761, in _score\n",
      "    scores = scorer(estimator, X_test, y_test)\n",
      "  File \"D:\\anaconda\\lib\\site-packages\\sklearn\\metrics\\_scorer.py\", line 103, in __call__\n",
      "    score = scorer._score(cached_call, estimator, *args, **kwargs)\n",
      "  File \"D:\\anaconda\\lib\\site-packages\\sklearn\\metrics\\_scorer.py\", line 264, in _score\n",
      "    return self._sign * self._score_func(y_true, y_pred, **self._kwargs)\n",
      "  File \"D:\\anaconda\\lib\\site-packages\\sklearn\\metrics\\_regression.py\", line 438, in mean_squared_error\n",
      "    y_type, y_true, y_pred, multioutput = _check_reg_targets(\n",
      "  File \"D:\\anaconda\\lib\\site-packages\\sklearn\\metrics\\_regression.py\", line 96, in _check_reg_targets\n",
      "    y_pred = check_array(y_pred, ensure_2d=False, dtype=dtype)\n",
      "  File \"D:\\anaconda\\lib\\site-packages\\sklearn\\utils\\validation.py\", line 800, in check_array\n",
      "    _assert_all_finite(array, allow_nan=force_all_finite == \"allow-nan\")\n",
      "  File \"D:\\anaconda\\lib\\site-packages\\sklearn\\utils\\validation.py\", line 114, in _assert_all_finite\n",
      "    raise ValueError(\n",
      "ValueError: Input contains NaN, infinity or a value too large for dtype('float64').\n",
      "\n",
      "  warnings.warn(\n",
      "D:\\anaconda\\lib\\site-packages\\sklearn\\cross_decomposition\\_pls.py:93: RuntimeWarning: invalid value encountered in true_divide\n",
      "  y_weights = np.dot(Y.T, x_score) / np.dot(x_score.T, x_score)\n",
      "D:\\anaconda\\lib\\site-packages\\sklearn\\cross_decomposition\\_pls.py:325: RuntimeWarning: invalid value encountered in true_divide\n",
      "  x_loadings = np.dot(x_scores, Xk) / np.dot(x_scores, x_scores)\n",
      "D:\\anaconda\\lib\\site-packages\\sklearn\\cross_decomposition\\_pls.py:334: RuntimeWarning: invalid value encountered in true_divide\n",
      "  y_loadings = np.dot(x_scores, Yk) / np.dot(x_scores, x_scores)\n",
      "D:\\anaconda\\lib\\site-packages\\sklearn\\model_selection\\_validation.py:770: UserWarning: Scoring failed. The score on this train-test partition for these parameters will be set to nan. Details: \n",
      "Traceback (most recent call last):\n",
      "  File \"D:\\anaconda\\lib\\site-packages\\sklearn\\model_selection\\_validation.py\", line 761, in _score\n",
      "    scores = scorer(estimator, X_test, y_test)\n",
      "  File \"D:\\anaconda\\lib\\site-packages\\sklearn\\metrics\\_scorer.py\", line 103, in __call__\n",
      "    score = scorer._score(cached_call, estimator, *args, **kwargs)\n",
      "  File \"D:\\anaconda\\lib\\site-packages\\sklearn\\metrics\\_scorer.py\", line 264, in _score\n",
      "    return self._sign * self._score_func(y_true, y_pred, **self._kwargs)\n",
      "  File \"D:\\anaconda\\lib\\site-packages\\sklearn\\metrics\\_regression.py\", line 438, in mean_squared_error\n",
      "    y_type, y_true, y_pred, multioutput = _check_reg_targets(\n",
      "  File \"D:\\anaconda\\lib\\site-packages\\sklearn\\metrics\\_regression.py\", line 96, in _check_reg_targets\n",
      "    y_pred = check_array(y_pred, ensure_2d=False, dtype=dtype)\n",
      "  File \"D:\\anaconda\\lib\\site-packages\\sklearn\\utils\\validation.py\", line 800, in check_array\n",
      "    _assert_all_finite(array, allow_nan=force_all_finite == \"allow-nan\")\n",
      "  File \"D:\\anaconda\\lib\\site-packages\\sklearn\\utils\\validation.py\", line 114, in _assert_all_finite\n",
      "    raise ValueError(\n",
      "ValueError: Input contains NaN, infinity or a value too large for dtype('float64').\n",
      "\n",
      "  warnings.warn(\n",
      "D:\\anaconda\\lib\\site-packages\\sklearn\\cross_decomposition\\_pls.py:93: RuntimeWarning: invalid value encountered in true_divide\n",
      "  y_weights = np.dot(Y.T, x_score) / np.dot(x_score.T, x_score)\n",
      "D:\\anaconda\\lib\\site-packages\\sklearn\\cross_decomposition\\_pls.py:325: RuntimeWarning: invalid value encountered in true_divide\n",
      "  x_loadings = np.dot(x_scores, Xk) / np.dot(x_scores, x_scores)\n",
      "D:\\anaconda\\lib\\site-packages\\sklearn\\cross_decomposition\\_pls.py:334: RuntimeWarning: invalid value encountered in true_divide\n",
      "  y_loadings = np.dot(x_scores, Yk) / np.dot(x_scores, x_scores)\n",
      "D:\\anaconda\\lib\\site-packages\\sklearn\\model_selection\\_validation.py:770: UserWarning: Scoring failed. The score on this train-test partition for these parameters will be set to nan. Details: \n",
      "Traceback (most recent call last):\n",
      "  File \"D:\\anaconda\\lib\\site-packages\\sklearn\\model_selection\\_validation.py\", line 761, in _score\n",
      "    scores = scorer(estimator, X_test, y_test)\n",
      "  File \"D:\\anaconda\\lib\\site-packages\\sklearn\\metrics\\_scorer.py\", line 103, in __call__\n",
      "    score = scorer._score(cached_call, estimator, *args, **kwargs)\n",
      "  File \"D:\\anaconda\\lib\\site-packages\\sklearn\\metrics\\_scorer.py\", line 264, in _score\n",
      "    return self._sign * self._score_func(y_true, y_pred, **self._kwargs)\n",
      "  File \"D:\\anaconda\\lib\\site-packages\\sklearn\\metrics\\_regression.py\", line 438, in mean_squared_error\n",
      "    y_type, y_true, y_pred, multioutput = _check_reg_targets(\n",
      "  File \"D:\\anaconda\\lib\\site-packages\\sklearn\\metrics\\_regression.py\", line 96, in _check_reg_targets\n",
      "    y_pred = check_array(y_pred, ensure_2d=False, dtype=dtype)\n",
      "  File \"D:\\anaconda\\lib\\site-packages\\sklearn\\utils\\validation.py\", line 800, in check_array\n",
      "    _assert_all_finite(array, allow_nan=force_all_finite == \"allow-nan\")\n",
      "  File \"D:\\anaconda\\lib\\site-packages\\sklearn\\utils\\validation.py\", line 114, in _assert_all_finite\n",
      "    raise ValueError(\n",
      "ValueError: Input contains NaN, infinity or a value too large for dtype('float64').\n",
      "\n",
      "  warnings.warn(\n",
      "D:\\anaconda\\lib\\site-packages\\sklearn\\cross_decomposition\\_pls.py:93: RuntimeWarning: invalid value encountered in true_divide\n",
      "  y_weights = np.dot(Y.T, x_score) / np.dot(x_score.T, x_score)\n",
      "D:\\anaconda\\lib\\site-packages\\sklearn\\cross_decomposition\\_pls.py:325: RuntimeWarning: invalid value encountered in true_divide\n",
      "  x_loadings = np.dot(x_scores, Xk) / np.dot(x_scores, x_scores)\n",
      "D:\\anaconda\\lib\\site-packages\\sklearn\\cross_decomposition\\_pls.py:334: RuntimeWarning: invalid value encountered in true_divide\n",
      "  y_loadings = np.dot(x_scores, Yk) / np.dot(x_scores, x_scores)\n",
      "D:\\anaconda\\lib\\site-packages\\sklearn\\model_selection\\_validation.py:770: UserWarning: Scoring failed. The score on this train-test partition for these parameters will be set to nan. Details: \n",
      "Traceback (most recent call last):\n",
      "  File \"D:\\anaconda\\lib\\site-packages\\sklearn\\model_selection\\_validation.py\", line 761, in _score\n",
      "    scores = scorer(estimator, X_test, y_test)\n",
      "  File \"D:\\anaconda\\lib\\site-packages\\sklearn\\metrics\\_scorer.py\", line 103, in __call__\n",
      "    score = scorer._score(cached_call, estimator, *args, **kwargs)\n",
      "  File \"D:\\anaconda\\lib\\site-packages\\sklearn\\metrics\\_scorer.py\", line 264, in _score\n",
      "    return self._sign * self._score_func(y_true, y_pred, **self._kwargs)\n",
      "  File \"D:\\anaconda\\lib\\site-packages\\sklearn\\metrics\\_regression.py\", line 438, in mean_squared_error\n",
      "    y_type, y_true, y_pred, multioutput = _check_reg_targets(\n",
      "  File \"D:\\anaconda\\lib\\site-packages\\sklearn\\metrics\\_regression.py\", line 96, in _check_reg_targets\n",
      "    y_pred = check_array(y_pred, ensure_2d=False, dtype=dtype)\n",
      "  File \"D:\\anaconda\\lib\\site-packages\\sklearn\\utils\\validation.py\", line 800, in check_array\n",
      "    _assert_all_finite(array, allow_nan=force_all_finite == \"allow-nan\")\n",
      "  File \"D:\\anaconda\\lib\\site-packages\\sklearn\\utils\\validation.py\", line 114, in _assert_all_finite\n",
      "    raise ValueError(\n",
      "ValueError: Input contains NaN, infinity or a value too large for dtype('float64').\n",
      "\n",
      "  warnings.warn(\n",
      "D:\\anaconda\\lib\\site-packages\\sklearn\\cross_decomposition\\_pls.py:93: RuntimeWarning: invalid value encountered in true_divide\n",
      "  y_weights = np.dot(Y.T, x_score) / np.dot(x_score.T, x_score)\n",
      "D:\\anaconda\\lib\\site-packages\\sklearn\\cross_decomposition\\_pls.py:325: RuntimeWarning: invalid value encountered in true_divide\n",
      "  x_loadings = np.dot(x_scores, Xk) / np.dot(x_scores, x_scores)\n",
      "D:\\anaconda\\lib\\site-packages\\sklearn\\cross_decomposition\\_pls.py:334: RuntimeWarning: invalid value encountered in true_divide\n",
      "  y_loadings = np.dot(x_scores, Yk) / np.dot(x_scores, x_scores)\n",
      "D:\\anaconda\\lib\\site-packages\\sklearn\\model_selection\\_validation.py:770: UserWarning: Scoring failed. The score on this train-test partition for these parameters will be set to nan. Details: \n",
      "Traceback (most recent call last):\n",
      "  File \"D:\\anaconda\\lib\\site-packages\\sklearn\\model_selection\\_validation.py\", line 761, in _score\n",
      "    scores = scorer(estimator, X_test, y_test)\n",
      "  File \"D:\\anaconda\\lib\\site-packages\\sklearn\\metrics\\_scorer.py\", line 103, in __call__\n",
      "    score = scorer._score(cached_call, estimator, *args, **kwargs)\n",
      "  File \"D:\\anaconda\\lib\\site-packages\\sklearn\\metrics\\_scorer.py\", line 264, in _score\n",
      "    return self._sign * self._score_func(y_true, y_pred, **self._kwargs)\n",
      "  File \"D:\\anaconda\\lib\\site-packages\\sklearn\\metrics\\_regression.py\", line 438, in mean_squared_error\n",
      "    y_type, y_true, y_pred, multioutput = _check_reg_targets(\n",
      "  File \"D:\\anaconda\\lib\\site-packages\\sklearn\\metrics\\_regression.py\", line 96, in _check_reg_targets\n",
      "    y_pred = check_array(y_pred, ensure_2d=False, dtype=dtype)\n",
      "  File \"D:\\anaconda\\lib\\site-packages\\sklearn\\utils\\validation.py\", line 800, in check_array\n",
      "    _assert_all_finite(array, allow_nan=force_all_finite == \"allow-nan\")\n",
      "  File \"D:\\anaconda\\lib\\site-packages\\sklearn\\utils\\validation.py\", line 114, in _assert_all_finite\n",
      "    raise ValueError(\n",
      "ValueError: Input contains NaN, infinity or a value too large for dtype('float64').\n",
      "\n",
      "  warnings.warn(\n",
      "D:\\anaconda\\lib\\site-packages\\sklearn\\cross_decomposition\\_pls.py:93: RuntimeWarning: invalid value encountered in true_divide\n",
      "  y_weights = np.dot(Y.T, x_score) / np.dot(x_score.T, x_score)\n",
      "D:\\anaconda\\lib\\site-packages\\sklearn\\cross_decomposition\\_pls.py:325: RuntimeWarning: invalid value encountered in true_divide\n",
      "  x_loadings = np.dot(x_scores, Xk) / np.dot(x_scores, x_scores)\n",
      "D:\\anaconda\\lib\\site-packages\\sklearn\\cross_decomposition\\_pls.py:334: RuntimeWarning: invalid value encountered in true_divide\n",
      "  y_loadings = np.dot(x_scores, Yk) / np.dot(x_scores, x_scores)\n",
      "D:\\anaconda\\lib\\site-packages\\sklearn\\model_selection\\_validation.py:770: UserWarning: Scoring failed. The score on this train-test partition for these parameters will be set to nan. Details: \n",
      "Traceback (most recent call last):\n",
      "  File \"D:\\anaconda\\lib\\site-packages\\sklearn\\model_selection\\_validation.py\", line 761, in _score\n",
      "    scores = scorer(estimator, X_test, y_test)\n",
      "  File \"D:\\anaconda\\lib\\site-packages\\sklearn\\metrics\\_scorer.py\", line 103, in __call__\n",
      "    score = scorer._score(cached_call, estimator, *args, **kwargs)\n",
      "  File \"D:\\anaconda\\lib\\site-packages\\sklearn\\metrics\\_scorer.py\", line 264, in _score\n",
      "    return self._sign * self._score_func(y_true, y_pred, **self._kwargs)\n",
      "  File \"D:\\anaconda\\lib\\site-packages\\sklearn\\metrics\\_regression.py\", line 438, in mean_squared_error\n",
      "    y_type, y_true, y_pred, multioutput = _check_reg_targets(\n",
      "  File \"D:\\anaconda\\lib\\site-packages\\sklearn\\metrics\\_regression.py\", line 96, in _check_reg_targets\n",
      "    y_pred = check_array(y_pred, ensure_2d=False, dtype=dtype)\n",
      "  File \"D:\\anaconda\\lib\\site-packages\\sklearn\\utils\\validation.py\", line 800, in check_array\n",
      "    _assert_all_finite(array, allow_nan=force_all_finite == \"allow-nan\")\n",
      "  File \"D:\\anaconda\\lib\\site-packages\\sklearn\\utils\\validation.py\", line 114, in _assert_all_finite\n",
      "    raise ValueError(\n",
      "ValueError: Input contains NaN, infinity or a value too large for dtype('float64').\n",
      "\n",
      "  warnings.warn(\n",
      "D:\\anaconda\\lib\\site-packages\\sklearn\\cross_decomposition\\_pls.py:93: RuntimeWarning: invalid value encountered in true_divide\n",
      "  y_weights = np.dot(Y.T, x_score) / np.dot(x_score.T, x_score)\n",
      "D:\\anaconda\\lib\\site-packages\\sklearn\\cross_decomposition\\_pls.py:325: RuntimeWarning: invalid value encountered in true_divide\n",
      "  x_loadings = np.dot(x_scores, Xk) / np.dot(x_scores, x_scores)\n",
      "D:\\anaconda\\lib\\site-packages\\sklearn\\cross_decomposition\\_pls.py:334: RuntimeWarning: invalid value encountered in true_divide\n",
      "  y_loadings = np.dot(x_scores, Yk) / np.dot(x_scores, x_scores)\n",
      "D:\\anaconda\\lib\\site-packages\\sklearn\\model_selection\\_validation.py:770: UserWarning: Scoring failed. The score on this train-test partition for these parameters will be set to nan. Details: \n",
      "Traceback (most recent call last):\n",
      "  File \"D:\\anaconda\\lib\\site-packages\\sklearn\\model_selection\\_validation.py\", line 761, in _score\n",
      "    scores = scorer(estimator, X_test, y_test)\n",
      "  File \"D:\\anaconda\\lib\\site-packages\\sklearn\\metrics\\_scorer.py\", line 103, in __call__\n",
      "    score = scorer._score(cached_call, estimator, *args, **kwargs)\n",
      "  File \"D:\\anaconda\\lib\\site-packages\\sklearn\\metrics\\_scorer.py\", line 264, in _score\n",
      "    return self._sign * self._score_func(y_true, y_pred, **self._kwargs)\n",
      "  File \"D:\\anaconda\\lib\\site-packages\\sklearn\\metrics\\_regression.py\", line 438, in mean_squared_error\n",
      "    y_type, y_true, y_pred, multioutput = _check_reg_targets(\n",
      "  File \"D:\\anaconda\\lib\\site-packages\\sklearn\\metrics\\_regression.py\", line 96, in _check_reg_targets\n",
      "    y_pred = check_array(y_pred, ensure_2d=False, dtype=dtype)\n",
      "  File \"D:\\anaconda\\lib\\site-packages\\sklearn\\utils\\validation.py\", line 800, in check_array\n",
      "    _assert_all_finite(array, allow_nan=force_all_finite == \"allow-nan\")\n",
      "  File \"D:\\anaconda\\lib\\site-packages\\sklearn\\utils\\validation.py\", line 114, in _assert_all_finite\n",
      "    raise ValueError(\n",
      "ValueError: Input contains NaN, infinity or a value too large for dtype('float64').\n",
      "\n",
      "  warnings.warn(\n",
      "D:\\anaconda\\lib\\site-packages\\sklearn\\cross_decomposition\\_pls.py:93: RuntimeWarning: invalid value encountered in true_divide\n",
      "  y_weights = np.dot(Y.T, x_score) / np.dot(x_score.T, x_score)\n",
      "D:\\anaconda\\lib\\site-packages\\sklearn\\cross_decomposition\\_pls.py:325: RuntimeWarning: invalid value encountered in true_divide\n",
      "  x_loadings = np.dot(x_scores, Xk) / np.dot(x_scores, x_scores)\n",
      "D:\\anaconda\\lib\\site-packages\\sklearn\\cross_decomposition\\_pls.py:334: RuntimeWarning: invalid value encountered in true_divide\n",
      "  y_loadings = np.dot(x_scores, Yk) / np.dot(x_scores, x_scores)\n",
      "D:\\anaconda\\lib\\site-packages\\sklearn\\model_selection\\_validation.py:770: UserWarning: Scoring failed. The score on this train-test partition for these parameters will be set to nan. Details: \n",
      "Traceback (most recent call last):\n",
      "  File \"D:\\anaconda\\lib\\site-packages\\sklearn\\model_selection\\_validation.py\", line 761, in _score\n",
      "    scores = scorer(estimator, X_test, y_test)\n",
      "  File \"D:\\anaconda\\lib\\site-packages\\sklearn\\metrics\\_scorer.py\", line 103, in __call__\n",
      "    score = scorer._score(cached_call, estimator, *args, **kwargs)\n",
      "  File \"D:\\anaconda\\lib\\site-packages\\sklearn\\metrics\\_scorer.py\", line 264, in _score\n",
      "    return self._sign * self._score_func(y_true, y_pred, **self._kwargs)\n",
      "  File \"D:\\anaconda\\lib\\site-packages\\sklearn\\metrics\\_regression.py\", line 438, in mean_squared_error\n",
      "    y_type, y_true, y_pred, multioutput = _check_reg_targets(\n",
      "  File \"D:\\anaconda\\lib\\site-packages\\sklearn\\metrics\\_regression.py\", line 96, in _check_reg_targets\n",
      "    y_pred = check_array(y_pred, ensure_2d=False, dtype=dtype)\n",
      "  File \"D:\\anaconda\\lib\\site-packages\\sklearn\\utils\\validation.py\", line 800, in check_array\n",
      "    _assert_all_finite(array, allow_nan=force_all_finite == \"allow-nan\")\n",
      "  File \"D:\\anaconda\\lib\\site-packages\\sklearn\\utils\\validation.py\", line 114, in _assert_all_finite\n",
      "    raise ValueError(\n",
      "ValueError: Input contains NaN, infinity or a value too large for dtype('float64').\n",
      "\n",
      "  warnings.warn(\n",
      "D:\\anaconda\\lib\\site-packages\\sklearn\\cross_decomposition\\_pls.py:93: RuntimeWarning: invalid value encountered in true_divide\n",
      "  y_weights = np.dot(Y.T, x_score) / np.dot(x_score.T, x_score)\n",
      "D:\\anaconda\\lib\\site-packages\\sklearn\\cross_decomposition\\_pls.py:325: RuntimeWarning: invalid value encountered in true_divide\n",
      "  x_loadings = np.dot(x_scores, Xk) / np.dot(x_scores, x_scores)\n",
      "D:\\anaconda\\lib\\site-packages\\sklearn\\cross_decomposition\\_pls.py:334: RuntimeWarning: invalid value encountered in true_divide\n",
      "  y_loadings = np.dot(x_scores, Yk) / np.dot(x_scores, x_scores)\n",
      "D:\\anaconda\\lib\\site-packages\\sklearn\\model_selection\\_validation.py:770: UserWarning: Scoring failed. The score on this train-test partition for these parameters will be set to nan. Details: \n",
      "Traceback (most recent call last):\n",
      "  File \"D:\\anaconda\\lib\\site-packages\\sklearn\\model_selection\\_validation.py\", line 761, in _score\n",
      "    scores = scorer(estimator, X_test, y_test)\n",
      "  File \"D:\\anaconda\\lib\\site-packages\\sklearn\\metrics\\_scorer.py\", line 103, in __call__\n",
      "    score = scorer._score(cached_call, estimator, *args, **kwargs)\n",
      "  File \"D:\\anaconda\\lib\\site-packages\\sklearn\\metrics\\_scorer.py\", line 264, in _score\n",
      "    return self._sign * self._score_func(y_true, y_pred, **self._kwargs)\n",
      "  File \"D:\\anaconda\\lib\\site-packages\\sklearn\\metrics\\_regression.py\", line 438, in mean_squared_error\n",
      "    y_type, y_true, y_pred, multioutput = _check_reg_targets(\n",
      "  File \"D:\\anaconda\\lib\\site-packages\\sklearn\\metrics\\_regression.py\", line 96, in _check_reg_targets\n",
      "    y_pred = check_array(y_pred, ensure_2d=False, dtype=dtype)\n",
      "  File \"D:\\anaconda\\lib\\site-packages\\sklearn\\utils\\validation.py\", line 800, in check_array\n",
      "    _assert_all_finite(array, allow_nan=force_all_finite == \"allow-nan\")\n",
      "  File \"D:\\anaconda\\lib\\site-packages\\sklearn\\utils\\validation.py\", line 114, in _assert_all_finite\n",
      "    raise ValueError(\n",
      "ValueError: Input contains NaN, infinity or a value too large for dtype('float64').\n",
      "\n",
      "  warnings.warn(\n",
      "D:\\anaconda\\lib\\site-packages\\sklearn\\cross_decomposition\\_pls.py:93: RuntimeWarning: invalid value encountered in true_divide\n",
      "  y_weights = np.dot(Y.T, x_score) / np.dot(x_score.T, x_score)\n",
      "D:\\anaconda\\lib\\site-packages\\sklearn\\cross_decomposition\\_pls.py:325: RuntimeWarning: invalid value encountered in true_divide\n",
      "  x_loadings = np.dot(x_scores, Xk) / np.dot(x_scores, x_scores)\n",
      "D:\\anaconda\\lib\\site-packages\\sklearn\\cross_decomposition\\_pls.py:334: RuntimeWarning: invalid value encountered in true_divide\n",
      "  y_loadings = np.dot(x_scores, Yk) / np.dot(x_scores, x_scores)\n",
      "D:\\anaconda\\lib\\site-packages\\sklearn\\model_selection\\_validation.py:770: UserWarning: Scoring failed. The score on this train-test partition for these parameters will be set to nan. Details: \n",
      "Traceback (most recent call last):\n",
      "  File \"D:\\anaconda\\lib\\site-packages\\sklearn\\model_selection\\_validation.py\", line 761, in _score\n",
      "    scores = scorer(estimator, X_test, y_test)\n",
      "  File \"D:\\anaconda\\lib\\site-packages\\sklearn\\metrics\\_scorer.py\", line 103, in __call__\n",
      "    score = scorer._score(cached_call, estimator, *args, **kwargs)\n",
      "  File \"D:\\anaconda\\lib\\site-packages\\sklearn\\metrics\\_scorer.py\", line 264, in _score\n",
      "    return self._sign * self._score_func(y_true, y_pred, **self._kwargs)\n",
      "  File \"D:\\anaconda\\lib\\site-packages\\sklearn\\metrics\\_regression.py\", line 438, in mean_squared_error\n",
      "    y_type, y_true, y_pred, multioutput = _check_reg_targets(\n",
      "  File \"D:\\anaconda\\lib\\site-packages\\sklearn\\metrics\\_regression.py\", line 96, in _check_reg_targets\n",
      "    y_pred = check_array(y_pred, ensure_2d=False, dtype=dtype)\n",
      "  File \"D:\\anaconda\\lib\\site-packages\\sklearn\\utils\\validation.py\", line 800, in check_array\n",
      "    _assert_all_finite(array, allow_nan=force_all_finite == \"allow-nan\")\n",
      "  File \"D:\\anaconda\\lib\\site-packages\\sklearn\\utils\\validation.py\", line 114, in _assert_all_finite\n",
      "    raise ValueError(\n",
      "ValueError: Input contains NaN, infinity or a value too large for dtype('float64').\n",
      "\n",
      "  warnings.warn(\n",
      "D:\\anaconda\\lib\\site-packages\\sklearn\\cross_decomposition\\_pls.py:93: RuntimeWarning: invalid value encountered in true_divide\n",
      "  y_weights = np.dot(Y.T, x_score) / np.dot(x_score.T, x_score)\n",
      "D:\\anaconda\\lib\\site-packages\\sklearn\\cross_decomposition\\_pls.py:325: RuntimeWarning: invalid value encountered in true_divide\n",
      "  x_loadings = np.dot(x_scores, Xk) / np.dot(x_scores, x_scores)\n",
      "D:\\anaconda\\lib\\site-packages\\sklearn\\cross_decomposition\\_pls.py:334: RuntimeWarning: invalid value encountered in true_divide\n",
      "  y_loadings = np.dot(x_scores, Yk) / np.dot(x_scores, x_scores)\n",
      "D:\\anaconda\\lib\\site-packages\\sklearn\\model_selection\\_validation.py:770: UserWarning: Scoring failed. The score on this train-test partition for these parameters will be set to nan. Details: \n",
      "Traceback (most recent call last):\n",
      "  File \"D:\\anaconda\\lib\\site-packages\\sklearn\\model_selection\\_validation.py\", line 761, in _score\n",
      "    scores = scorer(estimator, X_test, y_test)\n",
      "  File \"D:\\anaconda\\lib\\site-packages\\sklearn\\metrics\\_scorer.py\", line 103, in __call__\n",
      "    score = scorer._score(cached_call, estimator, *args, **kwargs)\n",
      "  File \"D:\\anaconda\\lib\\site-packages\\sklearn\\metrics\\_scorer.py\", line 264, in _score\n",
      "    return self._sign * self._score_func(y_true, y_pred, **self._kwargs)\n",
      "  File \"D:\\anaconda\\lib\\site-packages\\sklearn\\metrics\\_regression.py\", line 438, in mean_squared_error\n",
      "    y_type, y_true, y_pred, multioutput = _check_reg_targets(\n",
      "  File \"D:\\anaconda\\lib\\site-packages\\sklearn\\metrics\\_regression.py\", line 96, in _check_reg_targets\n",
      "    y_pred = check_array(y_pred, ensure_2d=False, dtype=dtype)\n",
      "  File \"D:\\anaconda\\lib\\site-packages\\sklearn\\utils\\validation.py\", line 800, in check_array\n",
      "    _assert_all_finite(array, allow_nan=force_all_finite == \"allow-nan\")\n",
      "  File \"D:\\anaconda\\lib\\site-packages\\sklearn\\utils\\validation.py\", line 114, in _assert_all_finite\n",
      "    raise ValueError(\n",
      "ValueError: Input contains NaN, infinity or a value too large for dtype('float64').\n",
      "\n",
      "  warnings.warn(\n",
      "D:\\anaconda\\lib\\site-packages\\sklearn\\cross_decomposition\\_pls.py:93: RuntimeWarning: invalid value encountered in true_divide\n",
      "  y_weights = np.dot(Y.T, x_score) / np.dot(x_score.T, x_score)\n",
      "D:\\anaconda\\lib\\site-packages\\sklearn\\cross_decomposition\\_pls.py:325: RuntimeWarning: invalid value encountered in true_divide\n",
      "  x_loadings = np.dot(x_scores, Xk) / np.dot(x_scores, x_scores)\n",
      "D:\\anaconda\\lib\\site-packages\\sklearn\\cross_decomposition\\_pls.py:334: RuntimeWarning: invalid value encountered in true_divide\n",
      "  y_loadings = np.dot(x_scores, Yk) / np.dot(x_scores, x_scores)\n",
      "D:\\anaconda\\lib\\site-packages\\sklearn\\model_selection\\_validation.py:770: UserWarning: Scoring failed. The score on this train-test partition for these parameters will be set to nan. Details: \n",
      "Traceback (most recent call last):\n",
      "  File \"D:\\anaconda\\lib\\site-packages\\sklearn\\model_selection\\_validation.py\", line 761, in _score\n",
      "    scores = scorer(estimator, X_test, y_test)\n",
      "  File \"D:\\anaconda\\lib\\site-packages\\sklearn\\metrics\\_scorer.py\", line 103, in __call__\n",
      "    score = scorer._score(cached_call, estimator, *args, **kwargs)\n",
      "  File \"D:\\anaconda\\lib\\site-packages\\sklearn\\metrics\\_scorer.py\", line 264, in _score\n",
      "    return self._sign * self._score_func(y_true, y_pred, **self._kwargs)\n",
      "  File \"D:\\anaconda\\lib\\site-packages\\sklearn\\metrics\\_regression.py\", line 438, in mean_squared_error\n",
      "    y_type, y_true, y_pred, multioutput = _check_reg_targets(\n",
      "  File \"D:\\anaconda\\lib\\site-packages\\sklearn\\metrics\\_regression.py\", line 96, in _check_reg_targets\n",
      "    y_pred = check_array(y_pred, ensure_2d=False, dtype=dtype)\n",
      "  File \"D:\\anaconda\\lib\\site-packages\\sklearn\\utils\\validation.py\", line 800, in check_array\n",
      "    _assert_all_finite(array, allow_nan=force_all_finite == \"allow-nan\")\n",
      "  File \"D:\\anaconda\\lib\\site-packages\\sklearn\\utils\\validation.py\", line 114, in _assert_all_finite\n",
      "    raise ValueError(\n",
      "ValueError: Input contains NaN, infinity or a value too large for dtype('float64').\n",
      "\n",
      "  warnings.warn(\n",
      "D:\\anaconda\\lib\\site-packages\\sklearn\\cross_decomposition\\_pls.py:93: RuntimeWarning: invalid value encountered in true_divide\n",
      "  y_weights = np.dot(Y.T, x_score) / np.dot(x_score.T, x_score)\n",
      "D:\\anaconda\\lib\\site-packages\\sklearn\\cross_decomposition\\_pls.py:325: RuntimeWarning: invalid value encountered in true_divide\n",
      "  x_loadings = np.dot(x_scores, Xk) / np.dot(x_scores, x_scores)\n",
      "D:\\anaconda\\lib\\site-packages\\sklearn\\cross_decomposition\\_pls.py:334: RuntimeWarning: invalid value encountered in true_divide\n",
      "  y_loadings = np.dot(x_scores, Yk) / np.dot(x_scores, x_scores)\n",
      "D:\\anaconda\\lib\\site-packages\\sklearn\\model_selection\\_validation.py:770: UserWarning: Scoring failed. The score on this train-test partition for these parameters will be set to nan. Details: \n",
      "Traceback (most recent call last):\n",
      "  File \"D:\\anaconda\\lib\\site-packages\\sklearn\\model_selection\\_validation.py\", line 761, in _score\n",
      "    scores = scorer(estimator, X_test, y_test)\n",
      "  File \"D:\\anaconda\\lib\\site-packages\\sklearn\\metrics\\_scorer.py\", line 103, in __call__\n",
      "    score = scorer._score(cached_call, estimator, *args, **kwargs)\n",
      "  File \"D:\\anaconda\\lib\\site-packages\\sklearn\\metrics\\_scorer.py\", line 264, in _score\n",
      "    return self._sign * self._score_func(y_true, y_pred, **self._kwargs)\n",
      "  File \"D:\\anaconda\\lib\\site-packages\\sklearn\\metrics\\_regression.py\", line 438, in mean_squared_error\n",
      "    y_type, y_true, y_pred, multioutput = _check_reg_targets(\n",
      "  File \"D:\\anaconda\\lib\\site-packages\\sklearn\\metrics\\_regression.py\", line 96, in _check_reg_targets\n",
      "    y_pred = check_array(y_pred, ensure_2d=False, dtype=dtype)\n",
      "  File \"D:\\anaconda\\lib\\site-packages\\sklearn\\utils\\validation.py\", line 800, in check_array\n",
      "    _assert_all_finite(array, allow_nan=force_all_finite == \"allow-nan\")\n",
      "  File \"D:\\anaconda\\lib\\site-packages\\sklearn\\utils\\validation.py\", line 114, in _assert_all_finite\n",
      "    raise ValueError(\n",
      "ValueError: Input contains NaN, infinity or a value too large for dtype('float64').\n",
      "\n",
      "  warnings.warn(\n",
      "D:\\anaconda\\lib\\site-packages\\sklearn\\cross_decomposition\\_pls.py:93: RuntimeWarning: invalid value encountered in true_divide\n",
      "  y_weights = np.dot(Y.T, x_score) / np.dot(x_score.T, x_score)\n",
      "D:\\anaconda\\lib\\site-packages\\sklearn\\cross_decomposition\\_pls.py:325: RuntimeWarning: invalid value encountered in true_divide\n",
      "  x_loadings = np.dot(x_scores, Xk) / np.dot(x_scores, x_scores)\n",
      "D:\\anaconda\\lib\\site-packages\\sklearn\\cross_decomposition\\_pls.py:334: RuntimeWarning: invalid value encountered in true_divide\n",
      "  y_loadings = np.dot(x_scores, Yk) / np.dot(x_scores, x_scores)\n",
      "D:\\anaconda\\lib\\site-packages\\sklearn\\model_selection\\_validation.py:770: UserWarning: Scoring failed. The score on this train-test partition for these parameters will be set to nan. Details: \n",
      "Traceback (most recent call last):\n",
      "  File \"D:\\anaconda\\lib\\site-packages\\sklearn\\model_selection\\_validation.py\", line 761, in _score\n",
      "    scores = scorer(estimator, X_test, y_test)\n",
      "  File \"D:\\anaconda\\lib\\site-packages\\sklearn\\metrics\\_scorer.py\", line 103, in __call__\n",
      "    score = scorer._score(cached_call, estimator, *args, **kwargs)\n",
      "  File \"D:\\anaconda\\lib\\site-packages\\sklearn\\metrics\\_scorer.py\", line 264, in _score\n",
      "    return self._sign * self._score_func(y_true, y_pred, **self._kwargs)\n",
      "  File \"D:\\anaconda\\lib\\site-packages\\sklearn\\metrics\\_regression.py\", line 438, in mean_squared_error\n",
      "    y_type, y_true, y_pred, multioutput = _check_reg_targets(\n",
      "  File \"D:\\anaconda\\lib\\site-packages\\sklearn\\metrics\\_regression.py\", line 96, in _check_reg_targets\n",
      "    y_pred = check_array(y_pred, ensure_2d=False, dtype=dtype)\n",
      "  File \"D:\\anaconda\\lib\\site-packages\\sklearn\\utils\\validation.py\", line 800, in check_array\n",
      "    _assert_all_finite(array, allow_nan=force_all_finite == \"allow-nan\")\n",
      "  File \"D:\\anaconda\\lib\\site-packages\\sklearn\\utils\\validation.py\", line 114, in _assert_all_finite\n",
      "    raise ValueError(\n",
      "ValueError: Input contains NaN, infinity or a value too large for dtype('float64').\n",
      "\n",
      "  warnings.warn(\n",
      "D:\\anaconda\\lib\\site-packages\\sklearn\\cross_decomposition\\_pls.py:93: RuntimeWarning: invalid value encountered in true_divide\n",
      "  y_weights = np.dot(Y.T, x_score) / np.dot(x_score.T, x_score)\n",
      "D:\\anaconda\\lib\\site-packages\\sklearn\\cross_decomposition\\_pls.py:325: RuntimeWarning: invalid value encountered in true_divide\n",
      "  x_loadings = np.dot(x_scores, Xk) / np.dot(x_scores, x_scores)\n",
      "D:\\anaconda\\lib\\site-packages\\sklearn\\cross_decomposition\\_pls.py:334: RuntimeWarning: invalid value encountered in true_divide\n",
      "  y_loadings = np.dot(x_scores, Yk) / np.dot(x_scores, x_scores)\n",
      "D:\\anaconda\\lib\\site-packages\\sklearn\\model_selection\\_validation.py:770: UserWarning: Scoring failed. The score on this train-test partition for these parameters will be set to nan. Details: \n",
      "Traceback (most recent call last):\n",
      "  File \"D:\\anaconda\\lib\\site-packages\\sklearn\\model_selection\\_validation.py\", line 761, in _score\n",
      "    scores = scorer(estimator, X_test, y_test)\n",
      "  File \"D:\\anaconda\\lib\\site-packages\\sklearn\\metrics\\_scorer.py\", line 103, in __call__\n",
      "    score = scorer._score(cached_call, estimator, *args, **kwargs)\n",
      "  File \"D:\\anaconda\\lib\\site-packages\\sklearn\\metrics\\_scorer.py\", line 264, in _score\n",
      "    return self._sign * self._score_func(y_true, y_pred, **self._kwargs)\n",
      "  File \"D:\\anaconda\\lib\\site-packages\\sklearn\\metrics\\_regression.py\", line 438, in mean_squared_error\n",
      "    y_type, y_true, y_pred, multioutput = _check_reg_targets(\n",
      "  File \"D:\\anaconda\\lib\\site-packages\\sklearn\\metrics\\_regression.py\", line 96, in _check_reg_targets\n",
      "    y_pred = check_array(y_pred, ensure_2d=False, dtype=dtype)\n",
      "  File \"D:\\anaconda\\lib\\site-packages\\sklearn\\utils\\validation.py\", line 800, in check_array\n",
      "    _assert_all_finite(array, allow_nan=force_all_finite == \"allow-nan\")\n",
      "  File \"D:\\anaconda\\lib\\site-packages\\sklearn\\utils\\validation.py\", line 114, in _assert_all_finite\n",
      "    raise ValueError(\n",
      "ValueError: Input contains NaN, infinity or a value too large for dtype('float64').\n",
      "\n",
      "  warnings.warn(\n",
      "D:\\anaconda\\lib\\site-packages\\sklearn\\cross_decomposition\\_pls.py:93: RuntimeWarning: invalid value encountered in true_divide\n",
      "  y_weights = np.dot(Y.T, x_score) / np.dot(x_score.T, x_score)\n",
      "D:\\anaconda\\lib\\site-packages\\sklearn\\cross_decomposition\\_pls.py:325: RuntimeWarning: invalid value encountered in true_divide\n",
      "  x_loadings = np.dot(x_scores, Xk) / np.dot(x_scores, x_scores)\n",
      "D:\\anaconda\\lib\\site-packages\\sklearn\\cross_decomposition\\_pls.py:334: RuntimeWarning: invalid value encountered in true_divide\n",
      "  y_loadings = np.dot(x_scores, Yk) / np.dot(x_scores, x_scores)\n",
      "D:\\anaconda\\lib\\site-packages\\sklearn\\model_selection\\_validation.py:770: UserWarning: Scoring failed. The score on this train-test partition for these parameters will be set to nan. Details: \n",
      "Traceback (most recent call last):\n",
      "  File \"D:\\anaconda\\lib\\site-packages\\sklearn\\model_selection\\_validation.py\", line 761, in _score\n",
      "    scores = scorer(estimator, X_test, y_test)\n",
      "  File \"D:\\anaconda\\lib\\site-packages\\sklearn\\metrics\\_scorer.py\", line 103, in __call__\n",
      "    score = scorer._score(cached_call, estimator, *args, **kwargs)\n",
      "  File \"D:\\anaconda\\lib\\site-packages\\sklearn\\metrics\\_scorer.py\", line 264, in _score\n",
      "    return self._sign * self._score_func(y_true, y_pred, **self._kwargs)\n",
      "  File \"D:\\anaconda\\lib\\site-packages\\sklearn\\metrics\\_regression.py\", line 438, in mean_squared_error\n",
      "    y_type, y_true, y_pred, multioutput = _check_reg_targets(\n",
      "  File \"D:\\anaconda\\lib\\site-packages\\sklearn\\metrics\\_regression.py\", line 96, in _check_reg_targets\n",
      "    y_pred = check_array(y_pred, ensure_2d=False, dtype=dtype)\n",
      "  File \"D:\\anaconda\\lib\\site-packages\\sklearn\\utils\\validation.py\", line 800, in check_array\n",
      "    _assert_all_finite(array, allow_nan=force_all_finite == \"allow-nan\")\n",
      "  File \"D:\\anaconda\\lib\\site-packages\\sklearn\\utils\\validation.py\", line 114, in _assert_all_finite\n",
      "    raise ValueError(\n",
      "ValueError: Input contains NaN, infinity or a value too large for dtype('float64').\n",
      "\n",
      "  warnings.warn(\n",
      "D:\\anaconda\\lib\\site-packages\\sklearn\\cross_decomposition\\_pls.py:93: RuntimeWarning: invalid value encountered in true_divide\n",
      "  y_weights = np.dot(Y.T, x_score) / np.dot(x_score.T, x_score)\n",
      "D:\\anaconda\\lib\\site-packages\\sklearn\\cross_decomposition\\_pls.py:325: RuntimeWarning: invalid value encountered in true_divide\n",
      "  x_loadings = np.dot(x_scores, Xk) / np.dot(x_scores, x_scores)\n",
      "D:\\anaconda\\lib\\site-packages\\sklearn\\cross_decomposition\\_pls.py:334: RuntimeWarning: invalid value encountered in true_divide\n",
      "  y_loadings = np.dot(x_scores, Yk) / np.dot(x_scores, x_scores)\n",
      "D:\\anaconda\\lib\\site-packages\\sklearn\\model_selection\\_validation.py:770: UserWarning: Scoring failed. The score on this train-test partition for these parameters will be set to nan. Details: \n",
      "Traceback (most recent call last):\n",
      "  File \"D:\\anaconda\\lib\\site-packages\\sklearn\\model_selection\\_validation.py\", line 761, in _score\n",
      "    scores = scorer(estimator, X_test, y_test)\n",
      "  File \"D:\\anaconda\\lib\\site-packages\\sklearn\\metrics\\_scorer.py\", line 103, in __call__\n",
      "    score = scorer._score(cached_call, estimator, *args, **kwargs)\n",
      "  File \"D:\\anaconda\\lib\\site-packages\\sklearn\\metrics\\_scorer.py\", line 264, in _score\n",
      "    return self._sign * self._score_func(y_true, y_pred, **self._kwargs)\n",
      "  File \"D:\\anaconda\\lib\\site-packages\\sklearn\\metrics\\_regression.py\", line 438, in mean_squared_error\n",
      "    y_type, y_true, y_pred, multioutput = _check_reg_targets(\n",
      "  File \"D:\\anaconda\\lib\\site-packages\\sklearn\\metrics\\_regression.py\", line 96, in _check_reg_targets\n",
      "    y_pred = check_array(y_pred, ensure_2d=False, dtype=dtype)\n",
      "  File \"D:\\anaconda\\lib\\site-packages\\sklearn\\utils\\validation.py\", line 800, in check_array\n",
      "    _assert_all_finite(array, allow_nan=force_all_finite == \"allow-nan\")\n",
      "  File \"D:\\anaconda\\lib\\site-packages\\sklearn\\utils\\validation.py\", line 114, in _assert_all_finite\n",
      "    raise ValueError(\n",
      "ValueError: Input contains NaN, infinity or a value too large for dtype('float64').\n",
      "\n",
      "  warnings.warn(\n",
      "D:\\anaconda\\lib\\site-packages\\sklearn\\cross_decomposition\\_pls.py:93: RuntimeWarning: invalid value encountered in true_divide\n",
      "  y_weights = np.dot(Y.T, x_score) / np.dot(x_score.T, x_score)\n",
      "D:\\anaconda\\lib\\site-packages\\sklearn\\cross_decomposition\\_pls.py:325: RuntimeWarning: invalid value encountered in true_divide\n",
      "  x_loadings = np.dot(x_scores, Xk) / np.dot(x_scores, x_scores)\n",
      "D:\\anaconda\\lib\\site-packages\\sklearn\\cross_decomposition\\_pls.py:334: RuntimeWarning: invalid value encountered in true_divide\n",
      "  y_loadings = np.dot(x_scores, Yk) / np.dot(x_scores, x_scores)\n",
      "D:\\anaconda\\lib\\site-packages\\sklearn\\model_selection\\_validation.py:770: UserWarning: Scoring failed. The score on this train-test partition for these parameters will be set to nan. Details: \n",
      "Traceback (most recent call last):\n",
      "  File \"D:\\anaconda\\lib\\site-packages\\sklearn\\model_selection\\_validation.py\", line 761, in _score\n",
      "    scores = scorer(estimator, X_test, y_test)\n",
      "  File \"D:\\anaconda\\lib\\site-packages\\sklearn\\metrics\\_scorer.py\", line 103, in __call__\n",
      "    score = scorer._score(cached_call, estimator, *args, **kwargs)\n",
      "  File \"D:\\anaconda\\lib\\site-packages\\sklearn\\metrics\\_scorer.py\", line 264, in _score\n",
      "    return self._sign * self._score_func(y_true, y_pred, **self._kwargs)\n",
      "  File \"D:\\anaconda\\lib\\site-packages\\sklearn\\metrics\\_regression.py\", line 438, in mean_squared_error\n",
      "    y_type, y_true, y_pred, multioutput = _check_reg_targets(\n",
      "  File \"D:\\anaconda\\lib\\site-packages\\sklearn\\metrics\\_regression.py\", line 96, in _check_reg_targets\n",
      "    y_pred = check_array(y_pred, ensure_2d=False, dtype=dtype)\n",
      "  File \"D:\\anaconda\\lib\\site-packages\\sklearn\\utils\\validation.py\", line 800, in check_array\n",
      "    _assert_all_finite(array, allow_nan=force_all_finite == \"allow-nan\")\n",
      "  File \"D:\\anaconda\\lib\\site-packages\\sklearn\\utils\\validation.py\", line 114, in _assert_all_finite\n",
      "    raise ValueError(\n",
      "ValueError: Input contains NaN, infinity or a value too large for dtype('float64').\n",
      "\n",
      "  warnings.warn(\n",
      "D:\\anaconda\\lib\\site-packages\\sklearn\\cross_decomposition\\_pls.py:93: RuntimeWarning: invalid value encountered in true_divide\n",
      "  y_weights = np.dot(Y.T, x_score) / np.dot(x_score.T, x_score)\n",
      "D:\\anaconda\\lib\\site-packages\\sklearn\\cross_decomposition\\_pls.py:325: RuntimeWarning: invalid value encountered in true_divide\n",
      "  x_loadings = np.dot(x_scores, Xk) / np.dot(x_scores, x_scores)\n",
      "D:\\anaconda\\lib\\site-packages\\sklearn\\cross_decomposition\\_pls.py:334: RuntimeWarning: invalid value encountered in true_divide\n",
      "  y_loadings = np.dot(x_scores, Yk) / np.dot(x_scores, x_scores)\n",
      "D:\\anaconda\\lib\\site-packages\\sklearn\\model_selection\\_validation.py:770: UserWarning: Scoring failed. The score on this train-test partition for these parameters will be set to nan. Details: \n",
      "Traceback (most recent call last):\n",
      "  File \"D:\\anaconda\\lib\\site-packages\\sklearn\\model_selection\\_validation.py\", line 761, in _score\n",
      "    scores = scorer(estimator, X_test, y_test)\n",
      "  File \"D:\\anaconda\\lib\\site-packages\\sklearn\\metrics\\_scorer.py\", line 103, in __call__\n",
      "    score = scorer._score(cached_call, estimator, *args, **kwargs)\n",
      "  File \"D:\\anaconda\\lib\\site-packages\\sklearn\\metrics\\_scorer.py\", line 264, in _score\n",
      "    return self._sign * self._score_func(y_true, y_pred, **self._kwargs)\n",
      "  File \"D:\\anaconda\\lib\\site-packages\\sklearn\\metrics\\_regression.py\", line 438, in mean_squared_error\n",
      "    y_type, y_true, y_pred, multioutput = _check_reg_targets(\n",
      "  File \"D:\\anaconda\\lib\\site-packages\\sklearn\\metrics\\_regression.py\", line 96, in _check_reg_targets\n",
      "    y_pred = check_array(y_pred, ensure_2d=False, dtype=dtype)\n",
      "  File \"D:\\anaconda\\lib\\site-packages\\sklearn\\utils\\validation.py\", line 800, in check_array\n",
      "    _assert_all_finite(array, allow_nan=force_all_finite == \"allow-nan\")\n",
      "  File \"D:\\anaconda\\lib\\site-packages\\sklearn\\utils\\validation.py\", line 114, in _assert_all_finite\n",
      "    raise ValueError(\n",
      "ValueError: Input contains NaN, infinity or a value too large for dtype('float64').\n",
      "\n",
      "  warnings.warn(\n"
     ]
    },
    {
     "name": "stderr",
     "output_type": "stream",
     "text": [
      "D:\\anaconda\\lib\\site-packages\\sklearn\\cross_decomposition\\_pls.py:93: RuntimeWarning: invalid value encountered in true_divide\n",
      "  y_weights = np.dot(Y.T, x_score) / np.dot(x_score.T, x_score)\n",
      "D:\\anaconda\\lib\\site-packages\\sklearn\\cross_decomposition\\_pls.py:325: RuntimeWarning: invalid value encountered in true_divide\n",
      "  x_loadings = np.dot(x_scores, Xk) / np.dot(x_scores, x_scores)\n",
      "D:\\anaconda\\lib\\site-packages\\sklearn\\cross_decomposition\\_pls.py:334: RuntimeWarning: invalid value encountered in true_divide\n",
      "  y_loadings = np.dot(x_scores, Yk) / np.dot(x_scores, x_scores)\n",
      "D:\\anaconda\\lib\\site-packages\\sklearn\\model_selection\\_validation.py:770: UserWarning: Scoring failed. The score on this train-test partition for these parameters will be set to nan. Details: \n",
      "Traceback (most recent call last):\n",
      "  File \"D:\\anaconda\\lib\\site-packages\\sklearn\\model_selection\\_validation.py\", line 761, in _score\n",
      "    scores = scorer(estimator, X_test, y_test)\n",
      "  File \"D:\\anaconda\\lib\\site-packages\\sklearn\\metrics\\_scorer.py\", line 103, in __call__\n",
      "    score = scorer._score(cached_call, estimator, *args, **kwargs)\n",
      "  File \"D:\\anaconda\\lib\\site-packages\\sklearn\\metrics\\_scorer.py\", line 264, in _score\n",
      "    return self._sign * self._score_func(y_true, y_pred, **self._kwargs)\n",
      "  File \"D:\\anaconda\\lib\\site-packages\\sklearn\\metrics\\_regression.py\", line 438, in mean_squared_error\n",
      "    y_type, y_true, y_pred, multioutput = _check_reg_targets(\n",
      "  File \"D:\\anaconda\\lib\\site-packages\\sklearn\\metrics\\_regression.py\", line 96, in _check_reg_targets\n",
      "    y_pred = check_array(y_pred, ensure_2d=False, dtype=dtype)\n",
      "  File \"D:\\anaconda\\lib\\site-packages\\sklearn\\utils\\validation.py\", line 800, in check_array\n",
      "    _assert_all_finite(array, allow_nan=force_all_finite == \"allow-nan\")\n",
      "  File \"D:\\anaconda\\lib\\site-packages\\sklearn\\utils\\validation.py\", line 114, in _assert_all_finite\n",
      "    raise ValueError(\n",
      "ValueError: Input contains NaN, infinity or a value too large for dtype('float64').\n",
      "\n",
      "  warnings.warn(\n",
      "D:\\anaconda\\lib\\site-packages\\sklearn\\cross_decomposition\\_pls.py:93: RuntimeWarning: invalid value encountered in true_divide\n",
      "  y_weights = np.dot(Y.T, x_score) / np.dot(x_score.T, x_score)\n",
      "D:\\anaconda\\lib\\site-packages\\sklearn\\cross_decomposition\\_pls.py:325: RuntimeWarning: invalid value encountered in true_divide\n",
      "  x_loadings = np.dot(x_scores, Xk) / np.dot(x_scores, x_scores)\n",
      "D:\\anaconda\\lib\\site-packages\\sklearn\\cross_decomposition\\_pls.py:334: RuntimeWarning: invalid value encountered in true_divide\n",
      "  y_loadings = np.dot(x_scores, Yk) / np.dot(x_scores, x_scores)\n",
      "D:\\anaconda\\lib\\site-packages\\sklearn\\model_selection\\_validation.py:770: UserWarning: Scoring failed. The score on this train-test partition for these parameters will be set to nan. Details: \n",
      "Traceback (most recent call last):\n",
      "  File \"D:\\anaconda\\lib\\site-packages\\sklearn\\model_selection\\_validation.py\", line 761, in _score\n",
      "    scores = scorer(estimator, X_test, y_test)\n",
      "  File \"D:\\anaconda\\lib\\site-packages\\sklearn\\metrics\\_scorer.py\", line 103, in __call__\n",
      "    score = scorer._score(cached_call, estimator, *args, **kwargs)\n",
      "  File \"D:\\anaconda\\lib\\site-packages\\sklearn\\metrics\\_scorer.py\", line 264, in _score\n",
      "    return self._sign * self._score_func(y_true, y_pred, **self._kwargs)\n",
      "  File \"D:\\anaconda\\lib\\site-packages\\sklearn\\metrics\\_regression.py\", line 438, in mean_squared_error\n",
      "    y_type, y_true, y_pred, multioutput = _check_reg_targets(\n",
      "  File \"D:\\anaconda\\lib\\site-packages\\sklearn\\metrics\\_regression.py\", line 96, in _check_reg_targets\n",
      "    y_pred = check_array(y_pred, ensure_2d=False, dtype=dtype)\n",
      "  File \"D:\\anaconda\\lib\\site-packages\\sklearn\\utils\\validation.py\", line 800, in check_array\n",
      "    _assert_all_finite(array, allow_nan=force_all_finite == \"allow-nan\")\n",
      "  File \"D:\\anaconda\\lib\\site-packages\\sklearn\\utils\\validation.py\", line 114, in _assert_all_finite\n",
      "    raise ValueError(\n",
      "ValueError: Input contains NaN, infinity or a value too large for dtype('float64').\n",
      "\n",
      "  warnings.warn(\n",
      "D:\\anaconda\\lib\\site-packages\\sklearn\\cross_decomposition\\_pls.py:93: RuntimeWarning: invalid value encountered in true_divide\n",
      "  y_weights = np.dot(Y.T, x_score) / np.dot(x_score.T, x_score)\n",
      "D:\\anaconda\\lib\\site-packages\\sklearn\\cross_decomposition\\_pls.py:325: RuntimeWarning: invalid value encountered in true_divide\n",
      "  x_loadings = np.dot(x_scores, Xk) / np.dot(x_scores, x_scores)\n",
      "D:\\anaconda\\lib\\site-packages\\sklearn\\cross_decomposition\\_pls.py:334: RuntimeWarning: invalid value encountered in true_divide\n",
      "  y_loadings = np.dot(x_scores, Yk) / np.dot(x_scores, x_scores)\n",
      "D:\\anaconda\\lib\\site-packages\\sklearn\\model_selection\\_validation.py:770: UserWarning: Scoring failed. The score on this train-test partition for these parameters will be set to nan. Details: \n",
      "Traceback (most recent call last):\n",
      "  File \"D:\\anaconda\\lib\\site-packages\\sklearn\\model_selection\\_validation.py\", line 761, in _score\n",
      "    scores = scorer(estimator, X_test, y_test)\n",
      "  File \"D:\\anaconda\\lib\\site-packages\\sklearn\\metrics\\_scorer.py\", line 103, in __call__\n",
      "    score = scorer._score(cached_call, estimator, *args, **kwargs)\n",
      "  File \"D:\\anaconda\\lib\\site-packages\\sklearn\\metrics\\_scorer.py\", line 264, in _score\n",
      "    return self._sign * self._score_func(y_true, y_pred, **self._kwargs)\n",
      "  File \"D:\\anaconda\\lib\\site-packages\\sklearn\\metrics\\_regression.py\", line 438, in mean_squared_error\n",
      "    y_type, y_true, y_pred, multioutput = _check_reg_targets(\n",
      "  File \"D:\\anaconda\\lib\\site-packages\\sklearn\\metrics\\_regression.py\", line 96, in _check_reg_targets\n",
      "    y_pred = check_array(y_pred, ensure_2d=False, dtype=dtype)\n",
      "  File \"D:\\anaconda\\lib\\site-packages\\sklearn\\utils\\validation.py\", line 800, in check_array\n",
      "    _assert_all_finite(array, allow_nan=force_all_finite == \"allow-nan\")\n",
      "  File \"D:\\anaconda\\lib\\site-packages\\sklearn\\utils\\validation.py\", line 114, in _assert_all_finite\n",
      "    raise ValueError(\n",
      "ValueError: Input contains NaN, infinity or a value too large for dtype('float64').\n",
      "\n",
      "  warnings.warn(\n",
      "D:\\anaconda\\lib\\site-packages\\sklearn\\cross_decomposition\\_pls.py:93: RuntimeWarning: invalid value encountered in true_divide\n",
      "  y_weights = np.dot(Y.T, x_score) / np.dot(x_score.T, x_score)\n",
      "D:\\anaconda\\lib\\site-packages\\sklearn\\cross_decomposition\\_pls.py:325: RuntimeWarning: invalid value encountered in true_divide\n",
      "  x_loadings = np.dot(x_scores, Xk) / np.dot(x_scores, x_scores)\n",
      "D:\\anaconda\\lib\\site-packages\\sklearn\\cross_decomposition\\_pls.py:334: RuntimeWarning: invalid value encountered in true_divide\n",
      "  y_loadings = np.dot(x_scores, Yk) / np.dot(x_scores, x_scores)\n",
      "D:\\anaconda\\lib\\site-packages\\sklearn\\model_selection\\_validation.py:770: UserWarning: Scoring failed. The score on this train-test partition for these parameters will be set to nan. Details: \n",
      "Traceback (most recent call last):\n",
      "  File \"D:\\anaconda\\lib\\site-packages\\sklearn\\model_selection\\_validation.py\", line 761, in _score\n",
      "    scores = scorer(estimator, X_test, y_test)\n",
      "  File \"D:\\anaconda\\lib\\site-packages\\sklearn\\metrics\\_scorer.py\", line 103, in __call__\n",
      "    score = scorer._score(cached_call, estimator, *args, **kwargs)\n",
      "  File \"D:\\anaconda\\lib\\site-packages\\sklearn\\metrics\\_scorer.py\", line 264, in _score\n",
      "    return self._sign * self._score_func(y_true, y_pred, **self._kwargs)\n",
      "  File \"D:\\anaconda\\lib\\site-packages\\sklearn\\metrics\\_regression.py\", line 438, in mean_squared_error\n",
      "    y_type, y_true, y_pred, multioutput = _check_reg_targets(\n",
      "  File \"D:\\anaconda\\lib\\site-packages\\sklearn\\metrics\\_regression.py\", line 96, in _check_reg_targets\n",
      "    y_pred = check_array(y_pred, ensure_2d=False, dtype=dtype)\n",
      "  File \"D:\\anaconda\\lib\\site-packages\\sklearn\\utils\\validation.py\", line 800, in check_array\n",
      "    _assert_all_finite(array, allow_nan=force_all_finite == \"allow-nan\")\n",
      "  File \"D:\\anaconda\\lib\\site-packages\\sklearn\\utils\\validation.py\", line 114, in _assert_all_finite\n",
      "    raise ValueError(\n",
      "ValueError: Input contains NaN, infinity or a value too large for dtype('float64').\n",
      "\n",
      "  warnings.warn(\n",
      "D:\\anaconda\\lib\\site-packages\\sklearn\\cross_decomposition\\_pls.py:93: RuntimeWarning: invalid value encountered in true_divide\n",
      "  y_weights = np.dot(Y.T, x_score) / np.dot(x_score.T, x_score)\n",
      "D:\\anaconda\\lib\\site-packages\\sklearn\\cross_decomposition\\_pls.py:325: RuntimeWarning: invalid value encountered in true_divide\n",
      "  x_loadings = np.dot(x_scores, Xk) / np.dot(x_scores, x_scores)\n",
      "D:\\anaconda\\lib\\site-packages\\sklearn\\cross_decomposition\\_pls.py:334: RuntimeWarning: invalid value encountered in true_divide\n",
      "  y_loadings = np.dot(x_scores, Yk) / np.dot(x_scores, x_scores)\n",
      "D:\\anaconda\\lib\\site-packages\\sklearn\\model_selection\\_validation.py:770: UserWarning: Scoring failed. The score on this train-test partition for these parameters will be set to nan. Details: \n",
      "Traceback (most recent call last):\n",
      "  File \"D:\\anaconda\\lib\\site-packages\\sklearn\\model_selection\\_validation.py\", line 761, in _score\n",
      "    scores = scorer(estimator, X_test, y_test)\n",
      "  File \"D:\\anaconda\\lib\\site-packages\\sklearn\\metrics\\_scorer.py\", line 103, in __call__\n",
      "    score = scorer._score(cached_call, estimator, *args, **kwargs)\n",
      "  File \"D:\\anaconda\\lib\\site-packages\\sklearn\\metrics\\_scorer.py\", line 264, in _score\n",
      "    return self._sign * self._score_func(y_true, y_pred, **self._kwargs)\n",
      "  File \"D:\\anaconda\\lib\\site-packages\\sklearn\\metrics\\_regression.py\", line 438, in mean_squared_error\n",
      "    y_type, y_true, y_pred, multioutput = _check_reg_targets(\n",
      "  File \"D:\\anaconda\\lib\\site-packages\\sklearn\\metrics\\_regression.py\", line 96, in _check_reg_targets\n",
      "    y_pred = check_array(y_pred, ensure_2d=False, dtype=dtype)\n",
      "  File \"D:\\anaconda\\lib\\site-packages\\sklearn\\utils\\validation.py\", line 800, in check_array\n",
      "    _assert_all_finite(array, allow_nan=force_all_finite == \"allow-nan\")\n",
      "  File \"D:\\anaconda\\lib\\site-packages\\sklearn\\utils\\validation.py\", line 114, in _assert_all_finite\n",
      "    raise ValueError(\n",
      "ValueError: Input contains NaN, infinity or a value too large for dtype('float64').\n",
      "\n",
      "  warnings.warn(\n",
      "D:\\anaconda\\lib\\site-packages\\sklearn\\cross_decomposition\\_pls.py:93: RuntimeWarning: invalid value encountered in true_divide\n",
      "  y_weights = np.dot(Y.T, x_score) / np.dot(x_score.T, x_score)\n",
      "D:\\anaconda\\lib\\site-packages\\sklearn\\cross_decomposition\\_pls.py:325: RuntimeWarning: invalid value encountered in true_divide\n",
      "  x_loadings = np.dot(x_scores, Xk) / np.dot(x_scores, x_scores)\n",
      "D:\\anaconda\\lib\\site-packages\\sklearn\\cross_decomposition\\_pls.py:334: RuntimeWarning: invalid value encountered in true_divide\n",
      "  y_loadings = np.dot(x_scores, Yk) / np.dot(x_scores, x_scores)\n",
      "D:\\anaconda\\lib\\site-packages\\sklearn\\model_selection\\_validation.py:770: UserWarning: Scoring failed. The score on this train-test partition for these parameters will be set to nan. Details: \n",
      "Traceback (most recent call last):\n",
      "  File \"D:\\anaconda\\lib\\site-packages\\sklearn\\model_selection\\_validation.py\", line 761, in _score\n",
      "    scores = scorer(estimator, X_test, y_test)\n",
      "  File \"D:\\anaconda\\lib\\site-packages\\sklearn\\metrics\\_scorer.py\", line 103, in __call__\n",
      "    score = scorer._score(cached_call, estimator, *args, **kwargs)\n",
      "  File \"D:\\anaconda\\lib\\site-packages\\sklearn\\metrics\\_scorer.py\", line 264, in _score\n",
      "    return self._sign * self._score_func(y_true, y_pred, **self._kwargs)\n",
      "  File \"D:\\anaconda\\lib\\site-packages\\sklearn\\metrics\\_regression.py\", line 438, in mean_squared_error\n",
      "    y_type, y_true, y_pred, multioutput = _check_reg_targets(\n",
      "  File \"D:\\anaconda\\lib\\site-packages\\sklearn\\metrics\\_regression.py\", line 96, in _check_reg_targets\n",
      "    y_pred = check_array(y_pred, ensure_2d=False, dtype=dtype)\n",
      "  File \"D:\\anaconda\\lib\\site-packages\\sklearn\\utils\\validation.py\", line 800, in check_array\n",
      "    _assert_all_finite(array, allow_nan=force_all_finite == \"allow-nan\")\n",
      "  File \"D:\\anaconda\\lib\\site-packages\\sklearn\\utils\\validation.py\", line 114, in _assert_all_finite\n",
      "    raise ValueError(\n",
      "ValueError: Input contains NaN, infinity or a value too large for dtype('float64').\n",
      "\n",
      "  warnings.warn(\n",
      "D:\\anaconda\\lib\\site-packages\\sklearn\\cross_decomposition\\_pls.py:93: RuntimeWarning: invalid value encountered in true_divide\n",
      "  y_weights = np.dot(Y.T, x_score) / np.dot(x_score.T, x_score)\n",
      "D:\\anaconda\\lib\\site-packages\\sklearn\\cross_decomposition\\_pls.py:325: RuntimeWarning: invalid value encountered in true_divide\n",
      "  x_loadings = np.dot(x_scores, Xk) / np.dot(x_scores, x_scores)\n",
      "D:\\anaconda\\lib\\site-packages\\sklearn\\cross_decomposition\\_pls.py:334: RuntimeWarning: invalid value encountered in true_divide\n",
      "  y_loadings = np.dot(x_scores, Yk) / np.dot(x_scores, x_scores)\n",
      "D:\\anaconda\\lib\\site-packages\\sklearn\\model_selection\\_validation.py:770: UserWarning: Scoring failed. The score on this train-test partition for these parameters will be set to nan. Details: \n",
      "Traceback (most recent call last):\n",
      "  File \"D:\\anaconda\\lib\\site-packages\\sklearn\\model_selection\\_validation.py\", line 761, in _score\n",
      "    scores = scorer(estimator, X_test, y_test)\n",
      "  File \"D:\\anaconda\\lib\\site-packages\\sklearn\\metrics\\_scorer.py\", line 103, in __call__\n",
      "    score = scorer._score(cached_call, estimator, *args, **kwargs)\n",
      "  File \"D:\\anaconda\\lib\\site-packages\\sklearn\\metrics\\_scorer.py\", line 264, in _score\n",
      "    return self._sign * self._score_func(y_true, y_pred, **self._kwargs)\n",
      "  File \"D:\\anaconda\\lib\\site-packages\\sklearn\\metrics\\_regression.py\", line 438, in mean_squared_error\n",
      "    y_type, y_true, y_pred, multioutput = _check_reg_targets(\n",
      "  File \"D:\\anaconda\\lib\\site-packages\\sklearn\\metrics\\_regression.py\", line 96, in _check_reg_targets\n",
      "    y_pred = check_array(y_pred, ensure_2d=False, dtype=dtype)\n",
      "  File \"D:\\anaconda\\lib\\site-packages\\sklearn\\utils\\validation.py\", line 800, in check_array\n",
      "    _assert_all_finite(array, allow_nan=force_all_finite == \"allow-nan\")\n",
      "  File \"D:\\anaconda\\lib\\site-packages\\sklearn\\utils\\validation.py\", line 114, in _assert_all_finite\n",
      "    raise ValueError(\n",
      "ValueError: Input contains NaN, infinity or a value too large for dtype('float64').\n",
      "\n",
      "  warnings.warn(\n",
      "D:\\anaconda\\lib\\site-packages\\sklearn\\cross_decomposition\\_pls.py:93: RuntimeWarning: invalid value encountered in true_divide\n",
      "  y_weights = np.dot(Y.T, x_score) / np.dot(x_score.T, x_score)\n",
      "D:\\anaconda\\lib\\site-packages\\sklearn\\cross_decomposition\\_pls.py:325: RuntimeWarning: invalid value encountered in true_divide\n",
      "  x_loadings = np.dot(x_scores, Xk) / np.dot(x_scores, x_scores)\n",
      "D:\\anaconda\\lib\\site-packages\\sklearn\\cross_decomposition\\_pls.py:334: RuntimeWarning: invalid value encountered in true_divide\n",
      "  y_loadings = np.dot(x_scores, Yk) / np.dot(x_scores, x_scores)\n",
      "D:\\anaconda\\lib\\site-packages\\sklearn\\model_selection\\_validation.py:770: UserWarning: Scoring failed. The score on this train-test partition for these parameters will be set to nan. Details: \n",
      "Traceback (most recent call last):\n",
      "  File \"D:\\anaconda\\lib\\site-packages\\sklearn\\model_selection\\_validation.py\", line 761, in _score\n",
      "    scores = scorer(estimator, X_test, y_test)\n",
      "  File \"D:\\anaconda\\lib\\site-packages\\sklearn\\metrics\\_scorer.py\", line 103, in __call__\n",
      "    score = scorer._score(cached_call, estimator, *args, **kwargs)\n",
      "  File \"D:\\anaconda\\lib\\site-packages\\sklearn\\metrics\\_scorer.py\", line 264, in _score\n",
      "    return self._sign * self._score_func(y_true, y_pred, **self._kwargs)\n",
      "  File \"D:\\anaconda\\lib\\site-packages\\sklearn\\metrics\\_regression.py\", line 438, in mean_squared_error\n",
      "    y_type, y_true, y_pred, multioutput = _check_reg_targets(\n",
      "  File \"D:\\anaconda\\lib\\site-packages\\sklearn\\metrics\\_regression.py\", line 96, in _check_reg_targets\n",
      "    y_pred = check_array(y_pred, ensure_2d=False, dtype=dtype)\n",
      "  File \"D:\\anaconda\\lib\\site-packages\\sklearn\\utils\\validation.py\", line 800, in check_array\n",
      "    _assert_all_finite(array, allow_nan=force_all_finite == \"allow-nan\")\n",
      "  File \"D:\\anaconda\\lib\\site-packages\\sklearn\\utils\\validation.py\", line 114, in _assert_all_finite\n",
      "    raise ValueError(\n",
      "ValueError: Input contains NaN, infinity or a value too large for dtype('float64').\n",
      "\n",
      "  warnings.warn(\n"
     ]
    },
    {
     "name": "stderr",
     "output_type": "stream",
     "text": [
      "D:\\anaconda\\lib\\site-packages\\sklearn\\cross_decomposition\\_pls.py:230: FutureWarning: As of version 0.24, n_components(5) should be in [1, n_features].n_components=4 will be used instead. In version 1.1 (renaming of 0.26), an error will be raised.\n",
      "  warnings.warn(\n",
      "D:\\anaconda\\lib\\site-packages\\sklearn\\cross_decomposition\\_pls.py:230: FutureWarning: As of version 0.24, n_components(5) should be in [1, n_features].n_components=4 will be used instead. In version 1.1 (renaming of 0.26), an error will be raised.\n",
      "  warnings.warn(\n",
      "D:\\anaconda\\lib\\site-packages\\sklearn\\cross_decomposition\\_pls.py:230: FutureWarning: As of version 0.24, n_components(5) should be in [1, n_features].n_components=4 will be used instead. In version 1.1 (renaming of 0.26), an error will be raised.\n",
      "  warnings.warn(\n",
      "D:\\anaconda\\lib\\site-packages\\sklearn\\cross_decomposition\\_pls.py:230: FutureWarning: As of version 0.24, n_components(5) should be in [1, n_features].n_components=4 will be used instead. In version 1.1 (renaming of 0.26), an error will be raised.\n",
      "  warnings.warn(\n",
      "D:\\anaconda\\lib\\site-packages\\sklearn\\cross_decomposition\\_pls.py:230: FutureWarning: As of version 0.24, n_components(5) should be in [1, n_features].n_components=4 will be used instead. In version 1.1 (renaming of 0.26), an error will be raised.\n",
      "  warnings.warn(\n",
      "D:\\anaconda\\lib\\site-packages\\sklearn\\cross_decomposition\\_pls.py:230: FutureWarning: As of version 0.24, n_components(5) should be in [1, n_features].n_components=4 will be used instead. In version 1.1 (renaming of 0.26), an error will be raised.\n",
      "  warnings.warn(\n",
      "D:\\anaconda\\lib\\site-packages\\sklearn\\cross_decomposition\\_pls.py:230: FutureWarning: As of version 0.24, n_components(5) should be in [1, n_features].n_components=4 will be used instead. In version 1.1 (renaming of 0.26), an error will be raised.\n",
      "  warnings.warn(\n",
      "D:\\anaconda\\lib\\site-packages\\sklearn\\cross_decomposition\\_pls.py:230: FutureWarning: As of version 0.24, n_components(5) should be in [1, n_features].n_components=4 will be used instead. In version 1.1 (renaming of 0.26), an error will be raised.\n",
      "  warnings.warn(\n",
      "D:\\anaconda\\lib\\site-packages\\sklearn\\cross_decomposition\\_pls.py:230: FutureWarning: As of version 0.24, n_components(5) should be in [1, n_features].n_components=4 will be used instead. In version 1.1 (renaming of 0.26), an error will be raised.\n",
      "  warnings.warn(\n",
      "D:\\anaconda\\lib\\site-packages\\sklearn\\cross_decomposition\\_pls.py:230: FutureWarning: As of version 0.24, n_components(5) should be in [1, n_features].n_components=4 will be used instead. In version 1.1 (renaming of 0.26), an error will be raised.\n",
      "  warnings.warn(\n",
      "D:\\anaconda\\lib\\site-packages\\sklearn\\cross_decomposition\\_pls.py:230: FutureWarning: As of version 0.24, n_components(5) should be in [1, n_features].n_components=4 will be used instead. In version 1.1 (renaming of 0.26), an error will be raised.\n",
      "  warnings.warn(\n",
      "D:\\anaconda\\lib\\site-packages\\sklearn\\cross_decomposition\\_pls.py:230: FutureWarning: As of version 0.24, n_components(5) should be in [1, n_features].n_components=4 will be used instead. In version 1.1 (renaming of 0.26), an error will be raised.\n",
      "  warnings.warn(\n",
      "D:\\anaconda\\lib\\site-packages\\sklearn\\cross_decomposition\\_pls.py:230: FutureWarning: As of version 0.24, n_components(5) should be in [1, n_features].n_components=4 will be used instead. In version 1.1 (renaming of 0.26), an error will be raised.\n",
      "  warnings.warn(\n",
      "D:\\anaconda\\lib\\site-packages\\sklearn\\cross_decomposition\\_pls.py:230: FutureWarning: As of version 0.24, n_components(5) should be in [1, n_features].n_components=4 will be used instead. In version 1.1 (renaming of 0.26), an error will be raised.\n",
      "  warnings.warn(\n",
      "D:\\anaconda\\lib\\site-packages\\sklearn\\cross_decomposition\\_pls.py:230: FutureWarning: As of version 0.24, n_components(5) should be in [1, n_features].n_components=4 will be used instead. In version 1.1 (renaming of 0.26), an error will be raised.\n",
      "  warnings.warn(\n",
      "D:\\anaconda\\lib\\site-packages\\sklearn\\cross_decomposition\\_pls.py:230: FutureWarning: As of version 0.24, n_components(5) should be in [1, n_features].n_components=4 will be used instead. In version 1.1 (renaming of 0.26), an error will be raised.\n",
      "  warnings.warn(\n",
      "D:\\anaconda\\lib\\site-packages\\sklearn\\cross_decomposition\\_pls.py:230: FutureWarning: As of version 0.24, n_components(5) should be in [1, n_features].n_components=4 will be used instead. In version 1.1 (renaming of 0.26), an error will be raised.\n",
      "  warnings.warn(\n",
      "D:\\anaconda\\lib\\site-packages\\sklearn\\cross_decomposition\\_pls.py:230: FutureWarning: As of version 0.24, n_components(5) should be in [1, n_features].n_components=4 will be used instead. In version 1.1 (renaming of 0.26), an error will be raised.\n",
      "  warnings.warn(\n",
      "D:\\anaconda\\lib\\site-packages\\sklearn\\cross_decomposition\\_pls.py:230: FutureWarning: As of version 0.24, n_components(5) should be in [1, n_features].n_components=4 will be used instead. In version 1.1 (renaming of 0.26), an error will be raised.\n",
      "  warnings.warn(\n",
      "D:\\anaconda\\lib\\site-packages\\sklearn\\cross_decomposition\\_pls.py:230: FutureWarning: As of version 0.24, n_components(5) should be in [1, n_features].n_components=4 will be used instead. In version 1.1 (renaming of 0.26), an error will be raised.\n",
      "  warnings.warn(\n",
      "D:\\anaconda\\lib\\site-packages\\sklearn\\cross_decomposition\\_pls.py:230: FutureWarning: As of version 0.24, n_components(5) should be in [1, n_features].n_components=4 will be used instead. In version 1.1 (renaming of 0.26), an error will be raised.\n",
      "  warnings.warn(\n",
      "D:\\anaconda\\lib\\site-packages\\sklearn\\cross_decomposition\\_pls.py:230: FutureWarning: As of version 0.24, n_components(5) should be in [1, n_features].n_components=4 will be used instead. In version 1.1 (renaming of 0.26), an error will be raised.\n",
      "  warnings.warn(\n",
      "D:\\anaconda\\lib\\site-packages\\sklearn\\cross_decomposition\\_pls.py:230: FutureWarning: As of version 0.24, n_components(5) should be in [1, n_features].n_components=4 will be used instead. In version 1.1 (renaming of 0.26), an error will be raised.\n",
      "  warnings.warn(\n",
      "D:\\anaconda\\lib\\site-packages\\sklearn\\cross_decomposition\\_pls.py:230: FutureWarning: As of version 0.24, n_components(5) should be in [1, n_features].n_components=4 will be used instead. In version 1.1 (renaming of 0.26), an error will be raised.\n",
      "  warnings.warn(\n",
      "D:\\anaconda\\lib\\site-packages\\sklearn\\cross_decomposition\\_pls.py:230: FutureWarning: As of version 0.24, n_components(5) should be in [1, n_features].n_components=4 will be used instead. In version 1.1 (renaming of 0.26), an error will be raised.\n",
      "  warnings.warn(\n",
      "D:\\anaconda\\lib\\site-packages\\sklearn\\cross_decomposition\\_pls.py:230: FutureWarning: As of version 0.24, n_components(5) should be in [1, n_features].n_components=4 will be used instead. In version 1.1 (renaming of 0.26), an error will be raised.\n",
      "  warnings.warn(\n",
      "D:\\anaconda\\lib\\site-packages\\sklearn\\cross_decomposition\\_pls.py:230: FutureWarning: As of version 0.24, n_components(5) should be in [1, n_features].n_components=4 will be used instead. In version 1.1 (renaming of 0.26), an error will be raised.\n",
      "  warnings.warn(\n",
      "D:\\anaconda\\lib\\site-packages\\sklearn\\cross_decomposition\\_pls.py:230: FutureWarning: As of version 0.24, n_components(5) should be in [1, n_features].n_components=4 will be used instead. In version 1.1 (renaming of 0.26), an error will be raised.\n",
      "  warnings.warn(\n",
      "D:\\anaconda\\lib\\site-packages\\sklearn\\cross_decomposition\\_pls.py:230: FutureWarning: As of version 0.24, n_components(5) should be in [1, n_features].n_components=4 will be used instead. In version 1.1 (renaming of 0.26), an error will be raised.\n",
      "  warnings.warn(\n",
      "D:\\anaconda\\lib\\site-packages\\sklearn\\cross_decomposition\\_pls.py:230: FutureWarning: As of version 0.24, n_components(5) should be in [1, n_features].n_components=4 will be used instead. In version 1.1 (renaming of 0.26), an error will be raised.\n",
      "  warnings.warn(\n"
     ]
    },
    {
     "data": {
      "text/plain": [
       "Text(0.5, 1.0, 'hp')"
      ]
     },
     "execution_count": 64,
     "metadata": {},
     "output_type": "execute_result"
    },
    {
     "data": {
      "image/png": "[encoded data removed]",
      "text/plain": [
       "<Figure size 432x288 with 1 Axes>"
      ]
     },
     "metadata": {
      "needs_background": "light"
     },
     "output_type": "display_data"
    }
   ],
   "source": [
    "X = data_log[['MD', 'BD', 'under_grad', 'mid']]\n",
    "y = data_log[[\"gini\"]]\n",
    "\n",
    "cv = RepeatedKFold(n_splits= 10 , n_repeats= 3 , random_state= 1 )\n",
    "\n",
    "mse = []\n",
    "n = len (X)\n",
    "\n",
    "# Calculate MSE with only the intercept\n",
    "score = -1*model_selection. cross_val_score (PLSRegression(n_components=1),\n",
    " np.ones((n,1)), y, cv=cv, scoring='neg_mean_squared_error').mean() \n",
    "mse.append(score)\n",
    "\n",
    "#  MSE с помощью кросс-валидации, добавляя по одному компоненту за раз\n",
    "for i in np.arange (1, 6):\n",
    " pls = PLSRegression(n_components=i)\n",
    " score = -1*model_selection. cross_val_score (pls, scale(X), y, cv=cv,\n",
    " scoring='neg_mean_squared_error').mean()\n",
    " mse.append(score)\n",
    "\n",
    "#график зависимости тестовой MSE от количества компонентов\n",
    "plt.plot (mse)\n",
    "plt.xlabel('Number of PLS Components')\n",
    "plt.ylabel('MSE')\n",
    "plt.title('hp')"
   ]
  },
  {
   "cell_type": "code",
   "execution_count": null,
   "id": "ea1a4ad7",
   "metadata": {},
   "outputs": [],
   "source": [
    "# разделим набор данных на обучающую выборку (70%) и тестовую выборку (30%)  \n",
    "X_train,X_test,y_train,y_test = train_test_split (X,y,test_size= 0.2 ,random_state= 0 ) \n",
    "\n",
    "# вычислить RMSE (корень из среднеквадратичной ошибки)  \n",
    "pls = PLSRegression(n_components=4)"
   ]
  },
  {
   "cell_type": "code",
   "execution_count": 72,
   "id": "f3d4886b",
   "metadata": {},
   "outputs": [],
   "source": [
    "pls2 = PLSRegression(n_components=4)\n",
    "pls2.fit(X, y)\n",
    "PLSRegression()\n",
    "Y_pred = pls2.predict(X)"
   ]
  },
  {
   "cell_type": "code",
   "execution_count": 73,
   "id": "27386bd7",
   "metadata": {},
   "outputs": [],
   "source": [
    "from numpy import arange\n",
    "from sklearn. linear_model import Ridge\n",
    "from sklearn. linear_model import RidgeCV\n",
    "from sklearn. model_selection import RepeatedKFold"
   ]
  },
  {
   "cell_type": "code",
   "execution_count": null,
   "id": "7e8fb530",
   "metadata": {},
   "outputs": [
    {
     "name": "stdout",
     "output_type": "stream",
     "text": [
      "0.35000000000000003\n"
     ]
    }
   ],
   "source": [
    "# определить переменные-предикторы и отклик (зависимую переменную)\n",
    "X = data_log[['MD', 'BD', 'under_grad', 'mid']]\n",
    "y = data_log[[\"gini\"]]\n",
    "\n",
    "cv = RepeatedKFold(n_splits= 10 , n_repeats= 3 , random_state= 1 )\n",
    "\n",
    "model = RidgeCV(alphas= arange (0, 1, 0.01), cv=cv, scoring='neg_mean_absolute_error')\n",
    "\n",
    "model. fit (X, y)\n",
    "\n",
    "# вывести значение lambda, при котором достигается минимальная тестовая MSE\n",
    "print(model. alpha_ )"
   ]
  }
 ],
 "metadata": {
  "kernelspec": {
   "display_name": ".venv",
   "language": "python",
   "name": "python3"
  },
  "language_info": {
   "codemirror_mode": {
    "name": "ipython",
    "version": 3
   },
   "file_extension": ".py",
   "mimetype": "text/x-python",
   "name": "python",
   "nbconvert_exporter": "python",
   "pygments_lexer": "ipython3",
   "version": "3.12.8"
  }
 },
 "nbformat": 4,
 "nbformat_minor": 5
}
